{
 "cells": [
  {
   "cell_type": "markdown",
   "metadata": {},
   "source": [
    "# Downloads"
   ]
  },
  {
   "cell_type": "code",
   "execution_count": 7,
   "metadata": {
    "colab": {
     "base_uri": "https://localhost:8080/"
    },
    "executionInfo": {
     "elapsed": 2760941,
     "status": "ok",
     "timestamp": 1649944334734,
     "user": {
      "displayName": "Jose Carranza",
      "userId": "00479404608526223403"
     },
     "user_tz": 360
    },
    "id": "AjLoXtti1DFZ",
    "outputId": "49256f2d-ad8e-488a-a27a-486ffa78bc42"
   },
   "outputs": [
    {
     "name": "stdout",
     "output_type": "stream",
     "text": [
      "--2022-04-19 20:14:53--  https://lab.plantnet.org/LifeCLEF/PlantCLEF2022/train/trusted/PlantCLEF2022_trusted_training_images_3.tar.gz\n",
      "Resolving lab.plantnet.org (lab.plantnet.org)... 193.51.117.136\n",
      "Connecting to lab.plantnet.org (lab.plantnet.org)|193.51.117.136|:443... connected.\n",
      "HTTP request sent, awaiting response... 206 Partial Content\n",
      "Length: 48933040577 (46G), 20375050009 (19G) remaining [application/x-gzip]\n",
      "Saving to: ‘/workspace/biomachina/trusted/PlantCLEF2022_trusted_training_images_3.tar.gz’\n",
      "\n",
      "PlantCLEF2022_trust 100%[+++++++++++========>]  45.57G  3.79MB/s    in 38m 47s \n",
      "\n",
      "2022-04-19 20:53:40 (8.35 MB/s) - ‘/workspace/biomachina/trusted/PlantCLEF2022_trusted_training_images_3.tar.gz’ saved [48933040577/48933040577]\n",
      "\n"
     ]
    }
   ],
   "source": [
    "# !gdown --id 1ijfYChF9X3sulLHUcZFlLRf7nZ7aXnzn\n",
    "!wget -c -P \"/workspace/biomachina/trusted\" https://lab.plantnet.org/LifeCLEF/PlantCLEF2022/train/trusted/PlantCLEF2022_trusted_training_images_3.tar.gz"
   ]
  },
  {
   "cell_type": "code",
   "execution_count": 8,
   "metadata": {
    "colab": {
     "base_uri": "https://localhost:8080/"
    },
    "executionInfo": {
     "elapsed": 2211168,
     "status": "ok",
     "timestamp": 1650157098527,
     "user": {
      "displayName": "Jose Carranza",
      "userId": "00479404608526223403"
     },
     "user_tz": 360
    },
    "id": "BqYTG27Vcwyp",
    "outputId": "b38de538-134c-48fa-9e01-d919fd4458b7"
   },
   "outputs": [
    {
     "name": "stdout",
     "output_type": "stream",
     "text": [
      "--2022-04-19 20:53:41--  https://lab.plantnet.org/LifeCLEF/PlantCLEF2022/train/trusted/PlantCLEF2022_trusted_training_images_5.tar.gz\n",
      "Resolving lab.plantnet.org (lab.plantnet.org)... 193.51.117.136\n",
      "Connecting to lab.plantnet.org (lab.plantnet.org)|193.51.117.136|:443... connected.\n",
      "HTTP request sent, awaiting response... 206 Partial Content\n",
      "Length: 38008585789 (35G), 37905812992 (35G) remaining [application/x-gzip]\n",
      "Saving to: ‘/workspace/biomachina/trusted/PlantCLEF2022_trusted_training_images_5.tar.gz’\n",
      "\n",
      "PlantCLEF2022_trust 100%[===================>]  35.40G  10.0MB/s    in 59m 34s \n",
      "\n",
      "2022-04-19 21:53:16 (10.1 MB/s) - ‘/workspace/biomachina/trusted/PlantCLEF2022_trusted_training_images_5.tar.gz’ saved [38008585789/38008585789]\n",
      "\n"
     ]
    }
   ],
   "source": [
    "# !gdown 1ijfYChF9X3sulLHUcZFlLRf7nZ7aXnzn\n",
    "!wget -c -P \"/workspace/biomachina/trusted\" https://lab.plantnet.org/LifeCLEF/PlantCLEF2022/train/trusted/PlantCLEF2022_trusted_training_images_5.tar.gz"
   ]
  },
  {
   "cell_type": "code",
   "execution_count": null,
   "metadata": {
    "colab": {
     "base_uri": "https://localhost:8080/"
    },
    "executionInfo": {
     "elapsed": 4201136,
     "status": "ok",
     "timestamp": 1650126494778,
     "user": {
      "displayName": "Jose Carranza",
      "userId": "00479404608526223403"
     },
     "user_tz": 360
    },
    "id": "NOJnoqCyEjx5",
    "outputId": "e722f455-b831-4898-cb5c-b3b17fcf8310"
   },
   "outputs": [],
   "source": [
    "# !wget -P \"/workspace/biomachina/trusted\" https://lab.plantnet.org/LifeCLEF/PlantCLEF2022/train/trusted/PlantCLEF2022_trusted_training_images_2.tar.gz"
   ]
  },
  {
   "cell_type": "markdown",
   "metadata": {},
   "source": [
    "# Decompress"
   ]
  },
  {
   "cell_type": "code",
   "execution_count": 9,
   "metadata": {},
   "outputs": [
    {
     "name": "stdout",
     "output_type": "stream",
     "text": [
      "35.4GiB 0:05:16 [ 114MiB/s] [================================>] 100%            \n"
     ]
    }
   ],
   "source": [
    "!pv \"/workspace/biomachina/trusted/PlantCLEF2022_trusted_training_images_5.tar.gz\" | tar xzf - -C \"/workspace/biomachina/trusted/\""
   ]
  },
  {
   "cell_type": "code",
   "execution_count": 10,
   "metadata": {},
   "outputs": [
    {
     "name": "stdout",
     "output_type": "stream",
     "text": [
      "45.6GiB 0:06:31 [ 119MiB/s] [================================>] 100%            \n"
     ]
    }
   ],
   "source": [
    "!pv \"/workspace/biomachina/trusted/PlantCLEF2022_trusted_training_images_3.tar.gz\" | tar xzf - -C \"/workspace/biomachina/trusted/\""
   ]
  },
  {
   "cell_type": "code",
   "execution_count": null,
   "metadata": {},
   "outputs": [],
   "source": []
  }
 ],
 "metadata": {
  "colab": {
   "background_execution": "on",
   "collapsed_sections": [],
   "name": "download_plantclef_data_3-2.ipynb",
   "provenance": []
  },
  "kernelspec": {
   "display_name": "Python 3 (ipykernel)",
   "language": "python",
   "name": "python3"
  },
  "language_info": {
   "codemirror_mode": {
    "name": "ipython",
    "version": 3
   },
   "file_extension": ".py",
   "mimetype": "text/x-python",
   "name": "python",
   "nbconvert_exporter": "python",
   "pygments_lexer": "ipython3",
   "version": "3.8.12"
  }
 },
 "nbformat": 4,
 "nbformat_minor": 4
}
