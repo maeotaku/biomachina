{
 "cells": [
  {
   "cell_type": "code",
   "execution_count": 1,
   "metadata": {
    "colab": {
     "base_uri": "https://localhost:8080/"
    },
    "executionInfo": {
     "elapsed": 7622,
     "status": "ok",
     "timestamp": 1649894225482,
     "user": {
      "displayName": "Jose Carranza",
      "userId": "02882352612498974713"
     },
     "user_tz": 360
    },
    "id": "K0lmnMsSW9Hd",
    "outputId": "c3c82c67-a81e-4f0a-ae37-a0d255c8b553"
   },
   "outputs": [
    {
     "name": "stdout",
     "output_type": "stream",
     "text": [
      "Reading package lists... Done\n",
      "Building dependency tree       \n",
      "Reading state information... Done\n",
      "Suggested packages:\n",
      "  doc-base\n",
      "The following NEW packages will be installed:\n",
      "  pigz pv\n",
      "0 upgraded, 2 newly installed, 0 to remove and 8 not upgraded.\n",
      "Need to get 106 kB of archives.\n",
      "After this operation, 382 kB of additional disk space will be used.\n",
      "Get:1 http://archive.ubuntu.com/ubuntu bionic/universe amd64 pigz amd64 2.4-1 [57.4 kB]\n",
      "Get:2 http://archive.ubuntu.com/ubuntu bionic/main amd64 pv amd64 1.6.6-1 [48.3 kB]\n",
      "Fetched 106 kB in 1s (164 kB/s)\n",
      "debconf: delaying package configuration, since apt-utils is not installed\n",
      "Selecting previously unselected package pigz.\n",
      "(Reading database ... 9107 files and directories currently installed.)\n",
      "Preparing to unpack .../archives/pigz_2.4-1_amd64.deb ...\n",
      "Unpacking pigz (2.4-1) ...\n",
      "Selecting previously unselected package pv.\n",
      "Preparing to unpack .../archives/pv_1.6.6-1_amd64.deb ...\n",
      "Unpacking pv (1.6.6-1) ...\n",
      "Setting up pv (1.6.6-1) ...\n",
      "Setting up pigz (2.4-1) ...\n"
     ]
    }
   ],
   "source": [
    "!apt-get install pv pigz gdown -y\n"
   ]
  },
  {
   "cell_type": "markdown",
   "metadata": {},
   "source": [
    "# Download"
   ]
  },
  {
   "cell_type": "code",
   "execution_count": 6,
   "metadata": {},
   "outputs": [
    {
     "name": "stdout",
     "output_type": "stream",
     "text": [
      "--2022-04-19 19:23:35--  https://lab.plantnet.org/LifeCLEF/PlantCLEF2022/train/trusted/PlantCLEF2022_trusted_training_images_2.tar.gz\n",
      "Resolving lab.plantnet.org (lab.plantnet.org)... 193.51.117.136\n",
      "Connecting to lab.plantnet.org (lab.plantnet.org)|193.51.117.136|:443... connected.\n",
      "HTTP request sent, awaiting response... 200 OK\n",
      "Length: 45688693701 (43G) [application/x-gzip]\n",
      "Saving to: ‘/workspace/biomachina/trusted/PlantCLEF2022_trusted_training_images_2.tar.gz’\n",
      "\n",
      "PlantCLEF2022_trust 100%[===================>]  42.55G  11.9MB/s    in 68m 52s \n",
      "\n",
      "2022-04-19 20:32:27 (10.5 MB/s) - ‘/workspace/biomachina/trusted/PlantCLEF2022_trusted_training_images_2.tar.gz’ saved [45688693701/45688693701]\n",
      "\n"
     ]
    }
   ],
   "source": [
    "!wget -c -P \"/workspace/biomachina/trusted\" https://lab.plantnet.org/LifeCLEF/PlantCLEF2022/train/trusted/PlantCLEF2022_trusted_training_images_2.tar.gz\n"
   ]
  },
  {
   "cell_type": "code",
   "execution_count": 2,
   "metadata": {
    "colab": {
     "base_uri": "https://localhost:8080/"
    },
    "executionInfo": {
     "elapsed": 205557,
     "status": "ok",
     "timestamp": 1649950778115,
     "user": {
      "displayName": "Jose Carranza",
      "userId": "00479404608526223403"
     },
     "user_tz": 360
    },
    "id": "Iz0LUJKQ30IZ",
    "outputId": "1edd6fb7-676e-48e3-ac5a-98b73a93d1ca"
   },
   "outputs": [
    {
     "name": "stdout",
     "output_type": "stream",
     "text": [
      "--2022-04-19 19:04:55--  https://lab.plantnet.org/LifeCLEF/PlantCLEF2022/train/trusted/PlantCLEF2022_trusted_training_images_6.tar.gz\n",
      "Resolving lab.plantnet.org (lab.plantnet.org)... 193.51.117.136\n",
      "Connecting to lab.plantnet.org (lab.plantnet.org)|193.51.117.136|:443... connected.\n",
      "HTTP request sent, awaiting response... 200 OK\n",
      "Length: 2040001881 (1.9G) [application/x-gzip]\n",
      "Saving to: ‘/workspace/biomachina/trusted/PlantCLEF2022_trusted_training_images_6.tar.gz’\n",
      "\n",
      "PlantCLEF2022_trust 100%[===================>]   1.90G  9.64MB/s    in 2m 23s  \n",
      "\n",
      "2022-04-19 19:07:19 (13.6 MB/s) - ‘/workspace/biomachina/trusted/PlantCLEF2022_trusted_training_images_6.tar.gz’ saved [2040001881/2040001881]\n",
      "\n"
     ]
    }
   ],
   "source": [
    "!wget -c -P \"/workspace/biomachina/trusted\" https://lab.plantnet.org/LifeCLEF/PlantCLEF2022/train/trusted/PlantCLEF2022_trusted_training_images_6.tar.gz\n"
   ]
  },
  {
   "cell_type": "code",
   "execution_count": 7,
   "metadata": {
    "colab": {
     "base_uri": "https://localhost:8080/"
    },
    "executionInfo": {
     "elapsed": 1264126,
     "status": "ok",
     "timestamp": 1649956575420,
     "user": {
      "displayName": "Jose Carranza",
      "userId": "00479404608526223403"
     },
     "user_tz": 360
    },
    "id": "y6-GmcPgBv1A",
    "outputId": "0dca4f0a-882b-40e8-99ad-151280b83b14"
   },
   "outputs": [
    {
     "name": "stdout",
     "output_type": "stream",
     "text": [
      "--2022-04-19 20:32:58--  https://lab.plantnet.org/LifeCLEF/PlantCLEF2022/train/trusted/PlantCLEF2022_trusted_training_images_4.tar.gz\n",
      "Resolving lab.plantnet.org (lab.plantnet.org)... 193.51.117.136\n",
      "Connecting to lab.plantnet.org (lab.plantnet.org)|193.51.117.136|:443... connected.\n",
      "HTTP request sent, awaiting response... 200 OK\n",
      "Length: 7170789291 (6.7G) [application/x-gzip]\n",
      "Saving to: ‘/workspace/biomachina/trusted/PlantCLEF2022_trusted_training_images_4.tar.gz’\n",
      "\n",
      "PlantCLEF2022_trust 100%[===================>]   6.68G  6.01MB/s    in 15m 36s \n",
      "\n",
      "2022-04-19 20:48:34 (7.31 MB/s) - ‘/workspace/biomachina/trusted/PlantCLEF2022_trusted_training_images_4.tar.gz’ saved [7170789291/7170789291]\n",
      "\n"
     ]
    }
   ],
   "source": [
    "!wget -c -P \"/workspace/biomachina/trusted\" https://lab.plantnet.org/LifeCLEF/PlantCLEF2022/train/trusted/PlantCLEF2022_trusted_training_images_4.tar.gz\n"
   ]
  },
  {
   "cell_type": "code",
   "execution_count": 8,
   "metadata": {
    "colab": {
     "base_uri": "https://localhost:8080/"
    },
    "executionInfo": {
     "elapsed": 1042657,
     "status": "ok",
     "timestamp": 1649954054893,
     "user": {
      "displayName": "Jose Carranza",
      "userId": "00479404608526223403"
     },
     "user_tz": 360
    },
    "id": "LnOEc7ynK0At",
    "outputId": "004283bb-fca3-49b0-95d0-b60ca2523d7e"
   },
   "outputs": [
    {
     "name": "stdout",
     "output_type": "stream",
     "text": [
      "--2022-04-19 20:48:34--  https://lab.plantnet.org/LifeCLEF/PlantCLEF2022/train/trusted/PlantCLEF2022_trusted_training_images_8.tar.gz\n",
      "Resolving lab.plantnet.org (lab.plantnet.org)... 193.51.117.136\n",
      "Connecting to lab.plantnet.org (lab.plantnet.org)|193.51.117.136|:443... connected.\n",
      "HTTP request sent, awaiting response... 200 OK\n",
      "Length: 6403968713 (6.0G) [application/x-gzip]\n",
      "Saving to: ‘/workspace/biomachina/trusted/PlantCLEF2022_trusted_training_images_8.tar.gz’\n",
      "\n",
      "PlantCLEF2022_trust 100%[===================>]   5.96G  9.73MB/s    in 12m 53s \n",
      "\n",
      "2022-04-19 21:01:28 (7.90 MB/s) - ‘/workspace/biomachina/trusted/PlantCLEF2022_trusted_training_images_8.tar.gz’ saved [6403968713/6403968713]\n",
      "\n"
     ]
    }
   ],
   "source": [
    "!wget -c -P \"/workspace/biomachina/trusted\" https://lab.plantnet.org/LifeCLEF/PlantCLEF2022/train/trusted/PlantCLEF2022_trusted_training_images_8.tar.gz\n"
   ]
  },
  {
   "cell_type": "code",
   "execution_count": 9,
   "metadata": {
    "colab": {
     "base_uri": "https://localhost:8080/"
    },
    "executionInfo": {
     "elapsed": 30511,
     "status": "ok",
     "timestamp": 1649951247563,
     "user": {
      "displayName": "Jose Carranza",
      "userId": "00479404608526223403"
     },
     "user_tz": 360
    },
    "id": "Nz4woi_4P385",
    "outputId": "ea40e150-8852-40a0-97ad-6c81ca77ef5d"
   },
   "outputs": [
    {
     "name": "stdout",
     "output_type": "stream",
     "text": [
      "--2022-04-19 21:01:28--  https://lab.plantnet.org/LifeCLEF/PlantCLEF2022/train/trusted/PlantCLEF2022_trusted_training_metadata.tar.gz\n",
      "Resolving lab.plantnet.org (lab.plantnet.org)... 193.51.117.136\n",
      "Connecting to lab.plantnet.org (lab.plantnet.org)|193.51.117.136|:443... connected.\n",
      "HTTP request sent, awaiting response... 416 Requested Range Not Satisfiable\n",
      "\n",
      "    The file is already fully retrieved; nothing to do.\n",
      "\n"
     ]
    }
   ],
   "source": [
    "!wget -c -P \"/workspace/biomachina/trusted\" https://lab.plantnet.org/LifeCLEF/PlantCLEF2022/train/trusted/PlantCLEF2022_trusted_training_metadata.tar.gz\n"
   ]
  },
  {
   "cell_type": "code",
   "execution_count": 10,
   "metadata": {
    "colab": {
     "base_uri": "https://localhost:8080/"
    },
    "executionInfo": {
     "elapsed": 188558,
     "status": "ok",
     "timestamp": 1649951480730,
     "user": {
      "displayName": "Jose Carranza",
      "userId": "00479404608526223403"
     },
     "user_tz": 360
    },
    "id": "5MSmEZfFxqvn",
    "outputId": "5e03370d-b978-47c8-9b01-a49cc2a3f13c"
   },
   "outputs": [
    {
     "name": "stdout",
     "output_type": "stream",
     "text": [
      "--2022-04-19 21:01:34--  https://lab.plantnet.org/LifeCLEF/PlantCLEF2022/train/trusted/PlantCLEF2022_trusted_training_images_1.tar.gz\n",
      "Resolving lab.plantnet.org (lab.plantnet.org)... 193.51.117.136\n",
      "Connecting to lab.plantnet.org (lab.plantnet.org)|193.51.117.136|:443... connected.\n",
      "HTTP request sent, awaiting response... 200 OK\n",
      "Length: 1033992886 (986M) [application/x-gzip]\n",
      "Saving to: ‘/workspace/biomachina/trusted/PlantCLEF2022_trusted_training_images_1.tar.gz’\n",
      "\n",
      "PlantCLEF2022_trust 100%[===================>] 986.09M  6.40MB/s    in 1m 46s  \n",
      "\n",
      "2022-04-19 21:03:20 (9.32 MB/s) - ‘/workspace/biomachina/trusted/PlantCLEF2022_trusted_training_images_1.tar.gz’ saved [1033992886/1033992886]\n",
      "\n"
     ]
    }
   ],
   "source": [
    "!wget -c -P \"/workspace/biomachina/trusted\" https://lab.plantnet.org/LifeCLEF/PlantCLEF2022/train/trusted/PlantCLEF2022_trusted_training_images_1.tar.gz\n"
   ]
  },
  {
   "cell_type": "code",
   "execution_count": 11,
   "metadata": {
    "colab": {
     "base_uri": "https://localhost:8080/"
    },
    "executionInfo": {
     "elapsed": 315092,
     "status": "ok",
     "timestamp": 1649952516126,
     "user": {
      "displayName": "Jose Carranza",
      "userId": "00479404608526223403"
     },
     "user_tz": 360
    },
    "id": "Erk0tEatyFMS",
    "outputId": "41c4c499-3e4a-4534-f0a8-afea9e5c6052"
   },
   "outputs": [
    {
     "name": "stdout",
     "output_type": "stream",
     "text": [
      "--2022-04-19 21:03:21--  https://lab.plantnet.org/LifeCLEF/PlantCLEF2022/train/trusted/PlantCLEF2022_trusted_training_images_9.tar.gz\n",
      "Resolving lab.plantnet.org (lab.plantnet.org)... 193.51.117.136\n",
      "Connecting to lab.plantnet.org (lab.plantnet.org)|193.51.117.136|:443... connected.\n",
      "HTTP request sent, awaiting response... 200 OK\n",
      "Length: 2619683138 (2.4G) [application/x-gzip]\n",
      "Saving to: ‘/workspace/biomachina/trusted/PlantCLEF2022_trusted_training_images_9.tar.gz’\n",
      "\n",
      "PlantCLEF2022_trust 100%[===================>]   2.44G  7.16MB/s    in 5m 42s  \n",
      "\n",
      "2022-04-19 21:09:03 (7.30 MB/s) - ‘/workspace/biomachina/trusted/PlantCLEF2022_trusted_training_images_9.tar.gz’ saved [2619683138/2619683138]\n",
      "\n"
     ]
    }
   ],
   "source": [
    "!wget -c -P \"/workspace/biomachina/trusted\" https://lab.plantnet.org/LifeCLEF/PlantCLEF2022/train/trusted/PlantCLEF2022_trusted_training_images_9.tar.gz\n"
   ]
  },
  {
   "cell_type": "code",
   "execution_count": 20,
   "metadata": {
    "colab": {
     "base_uri": "https://localhost:8080/"
    },
    "executionInfo": {
     "elapsed": 2472783,
     "status": "ok",
     "timestamp": 1649960514800,
     "user": {
      "displayName": "Jose Carranza",
      "userId": "00479404608526223403"
     },
     "user_tz": 360
    },
    "id": "oAeL7W5y8DXA",
    "outputId": "f29173be-1c7d-47ef-d9d4-13b8fff20136"
   },
   "outputs": [
    {
     "name": "stdout",
     "output_type": "stream",
     "text": [
      "--2022-04-19 21:26:43--  https://lab.plantnet.org/LifeCLEF/PlantCLEF2022/train/trusted/PlantCLEF2022_trusted_training_images_7.tar.gz\n",
      "Resolving lab.plantnet.org (lab.plantnet.org)... 193.51.117.136\n",
      "Connecting to lab.plantnet.org (lab.plantnet.org)|193.51.117.136|:443... connected.\n",
      "HTTP request sent, awaiting response... 206 Partial Content\n",
      "Length: 17870633174 (17G), 10172199982 (9.5G) remaining [application/x-gzip]\n",
      "Saving to: ‘/workspace/biomachina/trusted/PlantCLEF2022_trusted_training_images_7.tar.gz’\n",
      "\n",
      "PlantCLEF2022_trust 100%[++++++++===========>]  16.64G  14.3MB/s    in 16m 13s \n",
      "\n",
      "2022-04-19 21:42:56 (9.97 MB/s) - ‘/workspace/biomachina/trusted/PlantCLEF2022_trusted_training_images_7.tar.gz’ saved [17870633174/17870633174]\n",
      "\n"
     ]
    }
   ],
   "source": [
    "!wget -c -P \"/workspace/biomachina/trusted\" https://lab.plantnet.org/LifeCLEF/PlantCLEF2022/train/trusted/PlantCLEF2022_trusted_training_images_7.tar.gz\n"
   ]
  },
  {
   "cell_type": "markdown",
   "metadata": {},
   "source": [
    "# Decompress"
   ]
  },
  {
   "cell_type": "code",
   "execution_count": 13,
   "metadata": {},
   "outputs": [
    {
     "name": "stdout",
     "output_type": "stream",
     "text": [
      " 986MiB 0:00:08 [ 119MiB/s] [================================>] 100%            \n"
     ]
    }
   ],
   "source": [
    "!pv \"/workspace/biomachina/trusted/PlantCLEF2022_trusted_training_images_1.tar.gz\" | tar xzf - -C \"/workspace/biomachina/trusted/\""
   ]
  },
  {
   "cell_type": "code",
   "execution_count": 21,
   "metadata": {},
   "outputs": [
    {
     "name": "stdout",
     "output_type": "stream",
     "text": [
      "42.6GiB 0:06:29 [ 111MiB/s] [================================>] 100%            \n"
     ]
    }
   ],
   "source": [
    "!pv \"/workspace/biomachina/trusted/PlantCLEF2022_trusted_training_images_2.tar.gz\" | tar xzf - -C \"/workspace/biomachina/trusted/\""
   ]
  },
  {
   "cell_type": "code",
   "execution_count": 14,
   "metadata": {},
   "outputs": [
    {
     "name": "stdout",
     "output_type": "stream",
     "text": [
      "6.68GiB 0:00:57 [ 118MiB/s] [================================>] 100%            \n"
     ]
    }
   ],
   "source": [
    "!pv \"/workspace/biomachina/trusted/PlantCLEF2022_trusted_training_images_4.tar.gz\" | tar xzf - -C \"/workspace/biomachina/trusted/\""
   ]
  },
  {
   "cell_type": "code",
   "execution_count": 15,
   "metadata": {},
   "outputs": [
    {
     "name": "stdout",
     "output_type": "stream",
     "text": [
      "1.90GiB 0:00:16 [ 116MiB/s] [================================>] 100%            \n"
     ]
    }
   ],
   "source": [
    "!pv \"/workspace/biomachina/trusted/PlantCLEF2022_trusted_training_images_6.tar.gz\" | tar xzf - -C \"/workspace/biomachina/trusted/\""
   ]
  },
  {
   "cell_type": "code",
   "execution_count": 22,
   "metadata": {
    "id": "aHk6GiAy8LkE"
   },
   "outputs": [
    {
     "name": "stdout",
     "output_type": "stream",
     "text": [
      "16.6GiB 0:02:31 [ 112MiB/s] [================================>] 100%            \n"
     ]
    }
   ],
   "source": [
    "!pv \"/workspace/biomachina/trusted/PlantCLEF2022_trusted_training_images_7.tar.gz\" | tar xzf - -C \"/workspace/biomachina/trusted/\""
   ]
  },
  {
   "cell_type": "code",
   "execution_count": 17,
   "metadata": {},
   "outputs": [
    {
     "name": "stdout",
     "output_type": "stream",
     "text": [
      "5.96GiB 0:00:52 [ 116MiB/s] [================================>] 100%            \n"
     ]
    }
   ],
   "source": [
    "!pv \"/workspace/biomachina/trusted/PlantCLEF2022_trusted_training_images_8.tar.gz\" | tar xzf - -C \"/workspace/biomachina/trusted/\""
   ]
  },
  {
   "cell_type": "code",
   "execution_count": 18,
   "metadata": {},
   "outputs": [
    {
     "name": "stdout",
     "output_type": "stream",
     "text": [
      "2.44GiB 0:00:21 [ 116MiB/s] [================================>] 100%            \n"
     ]
    }
   ],
   "source": [
    "!pv \"/workspace/biomachina/trusted/PlantCLEF2022_trusted_training_images_9.tar.gz\" | tar xzf - -C \"/workspace/biomachina/trusted/\""
   ]
  },
  {
   "cell_type": "code",
   "execution_count": 19,
   "metadata": {},
   "outputs": [
    {
     "name": "stdout",
     "output_type": "stream",
     "text": [
      " 170MiB 0:00:09 [17.2MiB/s] [================================>] 100%            \n"
     ]
    }
   ],
   "source": [
    "!pv \"/workspace/biomachina/trusted/PlantCLEF2022_trusted_training_metadata.tar.gz\" | tar xzf - -C \"/workspace/biomachina/trusted/\""
   ]
  },
  {
   "cell_type": "code",
   "execution_count": 25,
   "metadata": {},
   "outputs": [
    {
     "name": "stdout",
     "output_type": "stream",
     "text": [
      "Filesystem      Size  Used Avail Use% Mounted on\n",
      "overlay         430G  306G  125G  72% /\n",
      "tmpfs            68M     0   68M   0% /dev\n",
      "tmpfs            68G     0   68G   0% /sys/fs/cgroup\n",
      "shm              22G  246k   22G   1% /dev/shm\n",
      "/dev/nvme0n1p4  2.0T  586G  1.4T  30% /etc/hosts\n",
      "tmpfs            68G   13k   68G   1% /proc/driver/nvidia\n",
      "/dev/nvme0n1p2   17G   14G  1.4G  92% /usr/bin/nvidia-smi\n",
      "tmpfs            14G  3.3M   14G   1% /run/nvidia-persistenced/socket\n",
      "udev             68G     0   68G   0% /dev/nvidia1\n",
      "tmpfs            68G     0   68G   0% /proc/asound\n",
      "tmpfs            68G     0   68G   0% /proc/acpi\n",
      "tmpfs            68G     0   68G   0% /proc/scsi\n",
      "tmpfs            68G     0   68G   0% /sys/firmware\n"
     ]
    }
   ],
   "source": [
    "!df -H"
   ]
  },
  {
   "cell_type": "code",
   "execution_count": 27,
   "metadata": {
    "id": "-zgdLyTaXCV8"
   },
   "outputs": [
    {
     "name": "stdout",
     "output_type": "stream",
     "text": [
      "Total number of files 2885055\n",
      "Total Number of directories 80002\n"
     ]
    }
   ],
   "source": [
    "# count folders in locatoin: verfity total download\n",
    "import os\n",
    "\n",
    "totalFiles = 0\n",
    "totalDir = 0\n",
    "for base, dirs, files in os.walk(\"/workspace/biomachina/trusted/\"):\n",
    "    for directories in dirs:\n",
    "        totalDir += 1\n",
    "    for Files in files:\n",
    "        totalFiles += 1\n",
    "\n",
    "print('Total number of files',totalFiles)\n",
    "print('Total Number of directories',totalDir)"
   ]
  },
  {
   "cell_type": "code",
   "execution_count": null,
   "metadata": {},
   "outputs": [],
   "source": []
  }
 ],
 "metadata": {
  "colab": {
   "background_execution": "on",
   "name": "download_plantclef_data_1-4-6-7-8-9-metadata.ipynb",
   "provenance": []
  },
  "kernelspec": {
   "display_name": "Python 3 (ipykernel)",
   "language": "python",
   "name": "python3"
  },
  "language_info": {
   "codemirror_mode": {
    "name": "ipython",
    "version": 3
   },
   "file_extension": ".py",
   "mimetype": "text/x-python",
   "name": "python",
   "nbconvert_exporter": "python",
   "pygments_lexer": "ipython3",
   "version": "3.8.12"
  }
 },
 "nbformat": 4,
 "nbformat_minor": 4
}
