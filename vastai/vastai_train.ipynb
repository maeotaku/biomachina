{
 "cells": [
  {
   "cell_type": "markdown",
   "id": "bbbe0fd9",
   "metadata": {
    "id": "m85nEHsEzeXc"
   },
   "source": [
    "# Device Info"
   ]
  },
  {
   "cell_type": "code",
   "execution_count": 1,
   "id": "71b1e5f4",
   "metadata": {
    "executionInfo": {
     "elapsed": 4,
     "status": "ok",
     "timestamp": 1650340841415,
     "user": {
      "displayName": "Jose Carranza",
      "userId": "00479404608526223403"
     },
     "user_tz": 360
    },
    "id": "FjEY2kylH1Po"
   },
   "outputs": [],
   "source": [
    "# !cat /proc/cpuinfo\n"
   ]
  },
  {
   "cell_type": "code",
   "execution_count": 2,
   "id": "aefcc95b",
   "metadata": {
    "executionInfo": {
     "elapsed": 176,
     "status": "ok",
     "timestamp": 1650340844256,
     "user": {
      "displayName": "Jose Carranza",
      "userId": "00479404608526223403"
     },
     "user_tz": 360
    },
    "id": "Fm2-N3BVQmx-"
   },
   "outputs": [
    {
     "name": "stdout",
     "output_type": "stream",
     "text": [
      "Tue Apr 19 19:08:49 2022       \n",
      "+-----------------------------------------------------------------------------+\n",
      "| NVIDIA-SMI 470.103.01   Driver Version: 470.103.01   CUDA Version: 11.4     |\n",
      "|-------------------------------+----------------------+----------------------+\n",
      "| GPU  Name        Persistence-M| Bus-Id        Disp.A | Volatile Uncorr. ECC |\n",
      "| Fan  Temp  Perf  Pwr:Usage/Cap|         Memory-Usage | GPU-Util  Compute M. |\n",
      "|                               |                      |               MIG M. |\n",
      "|===============================+======================+======================|\n",
      "|   0  NVIDIA GeForce ...  On   | 00000000:02:00.0 Off |                  N/A |\n",
      "| 30%   42C    P8    22W / 290W |      9MiB / 24268MiB |      0%      Default |\n",
      "|                               |                      |                  N/A |\n",
      "+-------------------------------+----------------------+----------------------+\n",
      "|   1  NVIDIA GeForce ...  On   | 00000000:66:00.0 Off |                  N/A |\n",
      "| 30%   40C    P8    29W / 290W |      9MiB / 24268MiB |      0%      Default |\n",
      "|                               |                      |                  N/A |\n",
      "+-------------------------------+----------------------+----------------------+\n",
      "                                                                               \n",
      "+-----------------------------------------------------------------------------+\n",
      "| Processes:                                                                  |\n",
      "|  GPU   GI   CI        PID   Type   Process name                  GPU Memory |\n",
      "|        ID   ID                                                   Usage      |\n",
      "|=============================================================================|\n",
      "+-----------------------------------------------------------------------------+\n"
     ]
    }
   ],
   "source": [
    "gpu_info = !nvidia-smi\n",
    "gpu_info = '\\n'.join(gpu_info)\n",
    "if gpu_info.find('failed') >= 0:\n",
    "  print('Not connected to a GPU')\n",
    "else:\n",
    "  print(gpu_info)\n"
   ]
  },
  {
   "cell_type": "code",
   "execution_count": 3,
   "id": "18726d4e",
   "metadata": {
    "colab": {
     "base_uri": "https://localhost:8080/"
    },
    "executionInfo": {
     "elapsed": 119592,
     "status": "ok",
     "timestamp": 1650342284507,
     "user": {
      "displayName": "Jose Carranza",
      "userId": "00479404608526223403"
     },
     "user_tz": 360
    },
    "id": "2IjgPCHEyhNJ",
    "outputId": "be2f8dbc-b037-41d1-a39c-233350b28e43"
   },
   "outputs": [],
   "source": [
    "# !pip uninstall torch torchvision -y\n",
    "# #\"torch>=1.6, <1.9\" \"pytorch-lightning>=1.6\"\n",
    "# !pip install cloud-tpu-client==0.10 torch==1.11.0 https://storage.googleapis.com/tpu-pytorch/wheels/colab/torch_xla-1.11-cp37-cp37m-linux_x86_64.whl tensorboard-plugin-profile\n",
    "# ! pip install --quiet  \"torchmetrics>=0.5\" \"ipython[notebook]\" \"torchvision\""
   ]
  },
  {
   "cell_type": "code",
   "execution_count": 4,
   "id": "9e20fed9",
   "metadata": {
    "colab": {
     "base_uri": "https://localhost:8080/"
    },
    "executionInfo": {
     "elapsed": 3218,
     "status": "ok",
     "timestamp": 1650342305793,
     "user": {
      "displayName": "Jose Carranza",
      "userId": "00479404608526223403"
     },
     "user_tz": 360
    },
    "id": "M_nppi3H1_dU",
    "outputId": "29a68ce1-c5ef-4fd5-c75f-8f12d5b7391e"
   },
   "outputs": [
    {
     "name": "stdout",
     "output_type": "stream",
     "text": [
      "Name: torch\n",
      "Version: 1.11.0\n",
      "Summary: Tensors and Dynamic neural networks in Python with strong GPU acceleration\n",
      "Home-page: https://pytorch.org/\n",
      "Author: PyTorch Team\n",
      "Author-email: packages@pytorch.org\n",
      "License: BSD-3\n",
      "Location: /opt/conda/lib/python3.8/site-packages\n",
      "Requires: typing_extensions\n",
      "Required-by: torchvision, torchtext, torchmetrics, torchelastic, torch-optimizer, timm, pytorch-ranger, pytorch-lightning, efficientnet-pytorch\n"
     ]
    }
   ],
   "source": [
    "!pip show torch"
   ]
  },
  {
   "cell_type": "markdown",
   "id": "aad08297",
   "metadata": {
    "id": "uFexRQVCyqGD"
   },
   "source": []
  },
  {
   "cell_type": "markdown",
   "id": "dc74bd05",
   "metadata": {
    "id": "dQD8WG5ISL-0"
   },
   "source": [
    "# Dataset copying/uncompress"
   ]
  },
  {
   "cell_type": "code",
   "execution_count": 5,
   "id": "0d997a6f",
   "metadata": {
    "executionInfo": {
     "elapsed": 788368,
     "status": "ok",
     "timestamp": 1650347102262,
     "user": {
      "displayName": "Jose Carranza",
      "userId": "00479404608526223403"
     },
     "user_tz": 360
    },
    "id": "-ie3hosQIvRp"
   },
   "outputs": [
    {
     "name": "stdout",
     "output_type": "stream",
     "text": [
      "tar (child): /content/drive/MyDrive/Datasets/2022/PlantCLEF2022_trusted_training_images_2.tar.gz: Cannot open: No such file or directory\n",
      "tar (child): Error is not recoverable: exiting now\n",
      "tar: Child returned status 2\n",
      "tar: Error is not recoverable: exiting now\n"
     ]
    }
   ],
   "source": [
    "!tar -I pigz -xf \"/content/drive/MyDrive/Datasets/2022/PlantCLEF2022_trusted_training_images_2.tar.gz\" -C \"/content/trusted\"\n",
    "# 42 GBs 13 min"
   ]
  },
  {
   "cell_type": "code",
   "execution_count": 6,
   "id": "258fec6b",
   "metadata": {
    "executionInfo": {
     "elapsed": 654126,
     "status": "ok",
     "timestamp": 1650347756382,
     "user": {
      "displayName": "Jose Carranza",
      "userId": "00479404608526223403"
     },
     "user_tz": 360
    },
    "id": "DzBrdj-NRfbM"
   },
   "outputs": [
    {
     "name": "stdout",
     "output_type": "stream",
     "text": [
      "tar (child): /content/drive/MyDrive/Datasets/2022/PlantCLEF2022_trusted_training_images_5.tar.gz: Cannot open: No such file or directory\n",
      "tar (child): Error is not recoverable: exiting now\n",
      "tar: Child returned status 2\n",
      "tar: Error is not recoverable: exiting now\n"
     ]
    }
   ],
   "source": [
    "!tar -I pigz -xf \"/content/drive/MyDrive/Datasets/2022/PlantCLEF2022_trusted_training_images_5.tar.gz\" -C \"/content/trusted\"\n",
    "# 35 GBs 10 min"
   ]
  },
  {
   "cell_type": "code",
   "execution_count": 7,
   "id": "1667e65e",
   "metadata": {
    "executionInfo": {
     "elapsed": 127008,
     "status": "ok",
     "timestamp": 1650347883381,
     "user": {
      "displayName": "Jose Carranza",
      "userId": "00479404608526223403"
     },
     "user_tz": 360
    },
    "id": "3v9lbXF8Rhkw"
   },
   "outputs": [
    {
     "name": "stdout",
     "output_type": "stream",
     "text": [
      "tar (child): /content/drive/MyDrive/Datasets/2022/PlantCLEF2022_trusted_training_images_4.tar.gz: Cannot open: No such file or directory\n",
      "tar (child): Error is not recoverable: exiting now\n",
      "tar: Child returned status 2\n",
      "tar: Error is not recoverable: exiting now\n"
     ]
    }
   ],
   "source": [
    "!tar -I pigz -xf \"/content/drive/MyDrive/Datasets/2022/PlantCLEF2022_trusted_training_images_4.tar.gz\" -C \"/content/trusted\"\n",
    "#2 min"
   ]
  },
  {
   "cell_type": "code",
   "execution_count": 8,
   "id": "eaabd8a7",
   "metadata": {
    "executionInfo": {
     "elapsed": 307695,
     "status": "ok",
     "timestamp": 1650348225429,
     "user": {
      "displayName": "Jose Carranza",
      "userId": "00479404608526223403"
     },
     "user_tz": 360
    },
    "id": "RqtVWz4cn9dM"
   },
   "outputs": [
    {
     "name": "stdout",
     "output_type": "stream",
     "text": [
      "tar (child): /content/drive/MyDrive/Datasets/2022/PlantCLEF2022_trusted_training_images_7.tar.gz: Cannot open: No such file or directory\n",
      "tar (child): Error is not recoverable: exiting now\n",
      "tar: Child returned status 2\n",
      "tar: Error is not recoverable: exiting now\n"
     ]
    }
   ],
   "source": [
    "!tar -I pigz -xf \"/content/drive/MyDrive/Datasets/2022/PlantCLEF2022_trusted_training_images_7.tar.gz\" -C \"/content/trusted\"\n",
    "#16.6 GBs 3-5.5 min"
   ]
  },
  {
   "cell_type": "code",
   "execution_count": 9,
   "id": "4ce39062",
   "metadata": {
    "executionInfo": {
     "elapsed": 108364,
     "status": "ok",
     "timestamp": 1650348352643,
     "user": {
      "displayName": "Jose Carranza",
      "userId": "00479404608526223403"
     },
     "user_tz": 360
    },
    "id": "4OYrW1Rxs-qX"
   },
   "outputs": [
    {
     "name": "stdout",
     "output_type": "stream",
     "text": [
      "tar (child): /content/drive/MyDrive/Datasets/2022/PlantCLEF2022_trusted_training_images_8.tar.gz: Cannot open: No such file or directory\n",
      "tar (child): Error is not recoverable: exiting now\n",
      "tar: Child returned status 2\n",
      "tar: Error is not recoverable: exiting now\n"
     ]
    }
   ],
   "source": [
    "!tar -I pigz -xf \"/content/drive/MyDrive/Datasets/2022/PlantCLEF2022_trusted_training_images_8.tar.gz\" -C \"/content/trusted\"\n",
    "# 5.96 GBs 1 min"
   ]
  },
  {
   "cell_type": "code",
   "execution_count": 10,
   "id": "650bc77a",
   "metadata": {
    "executionInfo": {
     "elapsed": 52342,
     "status": "ok",
     "timestamp": 1650348404973,
     "user": {
      "displayName": "Jose Carranza",
      "userId": "00479404608526223403"
     },
     "user_tz": 360
    },
    "id": "O9bGPxsUti3a"
   },
   "outputs": [
    {
     "name": "stdout",
     "output_type": "stream",
     "text": [
      "tar (child): /content/drive/MyDrive/Datasets/2022/PlantCLEF2022_trusted_training_images_9.tar.gz: Cannot open: No such file or directory\n",
      "tar (child): Error is not recoverable: exiting now\n",
      "tar: Child returned status 2\n",
      "tar: Error is not recoverable: exiting now\n"
     ]
    }
   ],
   "source": [
    "!tar -I pigz -xf \"/content/drive/MyDrive/Datasets/2022/PlantCLEF2022_trusted_training_images_9.tar.gz\" -C \"/content/trusted\"\n",
    "#2.44 GBs 29 secs"
   ]
  },
  {
   "cell_type": "code",
   "execution_count": 11,
   "id": "29be1943",
   "metadata": {
    "executionInfo": {
     "elapsed": 34365,
     "status": "ok",
     "timestamp": 1650347917742,
     "user": {
      "displayName": "Jose Carranza",
      "userId": "00479404608526223403"
     },
     "user_tz": 360
    },
    "id": "zo8auundI2Q-"
   },
   "outputs": [
    {
     "name": "stdout",
     "output_type": "stream",
     "text": [
      "tar (child): /content/drive/MyDrive/Datasets/2022/PlantCLEF2022_trusted_training_images_6.tar.gz: Cannot open: No such file or directory\n",
      "tar (child): Error is not recoverable: exiting now\n",
      "tar: Child returned status 2\n",
      "tar: Error is not recoverable: exiting now\n"
     ]
    }
   ],
   "source": [
    "!tar -I pigz -xf \"/content/drive/MyDrive/Datasets/2022/PlantCLEF2022_trusted_training_images_6.tar.gz\" -C \"/content/trusted\"\n",
    "# 1.90 GBs 18 secs"
   ]
  },
  {
   "cell_type": "code",
   "execution_count": 12,
   "id": "5a7db5c0",
   "metadata": {
    "executionInfo": {
     "elapsed": 18875,
     "status": "ok",
     "timestamp": 1650348244299,
     "user": {
      "displayName": "Jose Carranza",
      "userId": "00479404608526223403"
     },
     "user_tz": 360
    },
    "id": "r4ki3VDa1XyP"
   },
   "outputs": [
    {
     "name": "stdout",
     "output_type": "stream",
     "text": [
      "tar (child): /content/drive/MyDrive/Datasets/2022/PlantCLEF2022_trusted_training_images_1.tar.gz: Cannot open: No such file or directory\n",
      "tar (child): Error is not recoverable: exiting now\n",
      "tar: Child returned status 2\n",
      "tar: Error is not recoverable: exiting now\n"
     ]
    }
   ],
   "source": [
    "!tar -I pigz -xf \"/content/drive/MyDrive/Datasets/2022/PlantCLEF2022_trusted_training_images_1.tar.gz\" -C \"/content/trusted\"\n",
    "#986 MBs 9 secs"
   ]
  },
  {
   "cell_type": "code",
   "execution_count": 13,
   "id": "4fc67350",
   "metadata": {
    "colab": {
     "base_uri": "https://localhost:8080/"
    },
    "executionInfo": {
     "elapsed": 9772,
     "status": "ok",
     "timestamp": 1650342411595,
     "user": {
      "displayName": "Jose Carranza",
      "userId": "00479404608526223403"
     },
     "user_tz": 360
    },
    "id": "accD2GYKtlQY",
    "outputId": "3286c33a-5283-46c4-f261-81bf62593753"
   },
   "outputs": [
    {
     "name": "stdout",
     "output_type": "stream",
     "text": [
      "pv: /content/drive/MyDrive/Datasets/2022/PlantCLEF2022_trusted_training_metadata.tar.gz: No such file or directory\n",
      "\n",
      "gzip: stdin: unexpected end of file\n",
      "tar: Child returned status 1\n",
      "tar: Error is not recoverable: exiting now\n"
     ]
    }
   ],
   "source": [
    "!pv \"/content/drive/MyDrive/Datasets/2022/PlantCLEF2022_trusted_training_metadata.tar.gz\" | tar xzf - -C \"/content/trusted\"\n",
    "# !pigz -dc \"/content/drive/MyDrive/Datasets/2022/PlantCLEF2022_trusted_training_metadata.tar.gz\" | pv | tar xzf - -C \"/content/trusted\"\n",
    "# 170 MBs 9 secs"
   ]
  },
  {
   "cell_type": "code",
   "execution_count": 14,
   "id": "9d48511b",
   "metadata": {
    "colab": {
     "base_uri": "https://localhost:8080/"
    },
    "executionInfo": {
     "elapsed": 204,
     "status": "ok",
     "timestamp": 1650342411793,
     "user": {
      "displayName": "Jose Carranza",
      "userId": "00479404608526223403"
     },
     "user_tz": 360
    },
    "id": "a14xaSm8310W",
    "outputId": "643e801f-a26a-4a24-b2c0-35738cc2955f"
   },
   "outputs": [
    {
     "name": "stdout",
     "output_type": "stream",
     "text": [
      "find: ‘/content/trusted’: No such file or directory\n",
      "0\n"
     ]
    }
   ],
   "source": [
    "!find \"/content/trusted\" -type f | wc -l"
   ]
  },
  {
   "cell_type": "markdown",
   "id": "0664c585",
   "metadata": {
    "id": "514P--iRz2YF"
   },
   "source": [
    "# Training"
   ]
  },
  {
   "cell_type": "code",
   "execution_count": 4,
   "id": "d5704627",
   "metadata": {
    "colab": {
     "base_uri": "https://localhost:8080/",
     "height": 1000
    },
    "executionInfo": {
     "elapsed": 27795,
     "status": "ok",
     "timestamp": 1650342439586,
     "user": {
      "displayName": "Jose Carranza",
      "userId": "00479404608526223403"
     },
     "user_tz": 360
    },
    "id": "sPgLd6QcND2r",
    "outputId": "f31103da-252b-496e-dc64-6f7e7a064aa6"
   },
   "outputs": [
    {
     "name": "stdout",
     "output_type": "stream",
     "text": [
      "Collecting torchmetrics\n",
      "  Downloading torchmetrics-0.8.0-py3-none-any.whl (408 kB)\n",
      "\u001b[K     |████████████████████████████████| 408 kB 6.6 MB/s eta 0:00:01\n",
      "\u001b[?25hCollecting pandas\n",
      "  Downloading pandas-1.4.2-cp38-cp38-manylinux_2_17_x86_64.manylinux2014_x86_64.whl (11.7 MB)\n",
      "\u001b[K     |████████████████████████████████| 11.7 MB 19.0 MB/s eta 0:00:01\n",
      "\u001b[?25hCollecting lxml\n",
      "  Downloading lxml-4.8.0-cp38-cp38-manylinux_2_17_x86_64.manylinux2014_x86_64.manylinux_2_24_x86_64.whl (6.9 MB)\n",
      "\u001b[K     |████████████████████████████████| 6.9 MB 25.8 MB/s eta 0:00:01\n",
      "\u001b[?25hCollecting sklearn\n",
      "  Downloading sklearn-0.0.tar.gz (1.1 kB)\n",
      "Collecting scikit-learn\n",
      "  Downloading scikit_learn-1.0.2-cp38-cp38-manylinux_2_17_x86_64.manylinux2014_x86_64.whl (26.7 MB)\n",
      "\u001b[K     |████████████████████████████████| 26.7 MB 27.6 MB/s eta 0:00:01\n",
      "\u001b[?25hCollecting efficientnet_pytorch\n",
      "  Downloading efficientnet_pytorch-0.7.1.tar.gz (21 kB)\n",
      "Collecting einops\n",
      "  Downloading einops-0.4.1-py3-none-any.whl (28 kB)\n",
      "Collecting timm\n",
      "  Downloading timm-0.5.4-py3-none-any.whl (431 kB)\n",
      "\u001b[K     |████████████████████████████████| 431 kB 7.5 MB/s eta 0:00:01\n",
      "\u001b[?25hCollecting pytorch_lightning\n",
      "  Downloading pytorch_lightning-1.6.1-py3-none-any.whl (582 kB)\n",
      "\u001b[K     |████████████████████████████████| 582 kB 19.6 MB/s eta 0:00:01\n",
      "\u001b[?25hCollecting hydra-core\n",
      "  Downloading hydra_core-1.1.2-py3-none-any.whl (147 kB)\n",
      "\u001b[K     |████████████████████████████████| 147 kB 31.4 MB/s eta 0:00:01\n",
      "\u001b[?25hCollecting torch_optimizer\n",
      "  Downloading torch_optimizer-0.3.0-py3-none-any.whl (61 kB)\n",
      "\u001b[K     |████████████████████████████████| 61 kB 896 kB/s  eta 0:00:01\n",
      "\u001b[?25hCollecting pyDeprecate==0.3.*\n",
      "  Downloading pyDeprecate-0.3.2-py3-none-any.whl (10 kB)\n",
      "Requirement already satisfied: numpy>=1.17.2 in /opt/conda/lib/python3.8/site-packages (from torchmetrics) (1.21.2)\n",
      "Requirement already satisfied: torch>=1.3.1 in /opt/conda/lib/python3.8/site-packages (from torchmetrics) (1.11.0)\n",
      "Requirement already satisfied: packaging in /opt/conda/lib/python3.8/site-packages (from torchmetrics) (21.3)\n",
      "Requirement already satisfied: python-dateutil>=2.8.1 in /opt/conda/lib/python3.8/site-packages (from pandas) (2.8.2)\n",
      "Requirement already satisfied: pytz>=2020.1 in /opt/conda/lib/python3.8/site-packages (from pandas) (2021.3)\n",
      "Collecting joblib>=0.11\n",
      "  Downloading joblib-1.1.0-py2.py3-none-any.whl (306 kB)\n",
      "\u001b[K     |████████████████████████████████| 306 kB 21.0 MB/s eta 0:00:01\n",
      "\u001b[?25hCollecting scipy>=1.1.0\n",
      "  Downloading scipy-1.8.0-cp38-cp38-manylinux_2_17_x86_64.manylinux2014_x86_64.whl (41.6 MB)\n",
      "\u001b[K     |████████████████████████████████| 41.6 MB 228 kB/s  eta 0:00:01     |████████████▍                   | 16.1 MB 24.4 MB/s eta 0:00:02\n",
      "\u001b[?25hCollecting threadpoolctl>=2.0.0\n",
      "  Downloading threadpoolctl-3.1.0-py3-none-any.whl (14 kB)\n",
      "Requirement already satisfied: torchvision in /opt/conda/lib/python3.8/site-packages (from timm) (0.12.0)\n",
      "Collecting typing-extensions>=4.0.0\n",
      "  Downloading typing_extensions-4.2.0-py3-none-any.whl (24 kB)\n",
      "Collecting tensorboard>=2.2.0\n",
      "  Downloading tensorboard-2.8.0-py3-none-any.whl (5.8 MB)\n",
      "\u001b[K     |████████████████████████████████| 5.8 MB 25.5 MB/s eta 0:00:01\n",
      "\u001b[?25hRequirement already satisfied: tqdm>=4.41.0 in /opt/conda/lib/python3.8/site-packages (from pytorch_lightning) (4.62.3)\n",
      "Requirement already satisfied: PyYAML>=5.4 in /opt/conda/lib/python3.8/site-packages (from pytorch_lightning) (6.0)\n",
      "Collecting fsspec[http]!=2021.06.0,>=2021.05.0\n",
      "  Downloading fsspec-2022.3.0-py3-none-any.whl (136 kB)\n",
      "\u001b[K     |████████████████████████████████| 136 kB 22.4 MB/s eta 0:00:01\n",
      "\u001b[?25hCollecting importlib-resources<5.3\n",
      "  Downloading importlib_resources-5.2.3-py3-none-any.whl (27 kB)\n",
      "Collecting antlr4-python3-runtime==4.8\n",
      "  Downloading antlr4-python3-runtime-4.8.tar.gz (112 kB)\n",
      "\u001b[K     |████████████████████████████████| 112 kB 25.0 MB/s eta 0:00:01\n",
      "\u001b[?25hCollecting omegaconf==2.1.*\n",
      "  Downloading omegaconf-2.1.2-py3-none-any.whl (74 kB)\n",
      "\u001b[K     |████████████████████████████████| 74 kB 5.8 MB/s  eta 0:00:01\n",
      "\u001b[?25hCollecting pytorch-ranger>=0.1.1\n",
      "  Downloading pytorch_ranger-0.1.1-py3-none-any.whl (14 kB)\n",
      "Collecting aiohttp\n",
      "  Downloading aiohttp-3.8.1-cp38-cp38-manylinux_2_5_x86_64.manylinux1_x86_64.manylinux_2_12_x86_64.manylinux2010_x86_64.whl (1.3 MB)\n",
      "\u001b[K     |████████████████████████████████| 1.3 MB 22.3 MB/s eta 0:00:01\n",
      "\u001b[?25hRequirement already satisfied: requests in /opt/conda/lib/python3.8/site-packages (from fsspec[http]!=2021.06.0,>=2021.05.0->pytorch_lightning) (2.27.1)\n",
      "Requirement already satisfied: zipp>=3.1.0 in /opt/conda/lib/python3.8/site-packages (from importlib-resources<5.3->hydra-core) (3.8.0)\n",
      "Requirement already satisfied: pyparsing!=3.0.5,>=2.0.2 in /opt/conda/lib/python3.8/site-packages (from packaging->torchmetrics) (3.0.8)\n",
      "Requirement already satisfied: six>=1.5 in /opt/conda/lib/python3.8/site-packages (from python-dateutil>=2.8.1->pandas) (1.16.0)\n",
      "Requirement already satisfied: wheel>=0.26 in /opt/conda/lib/python3.8/site-packages (from tensorboard>=2.2.0->pytorch_lightning) (0.37.1)\n",
      "Collecting grpcio>=1.24.3\n",
      "  Downloading grpcio-1.44.0-cp38-cp38-manylinux_2_17_x86_64.manylinux2014_x86_64.whl (4.3 MB)\n",
      "\u001b[K     |████████████████████████████████| 4.3 MB 26.4 MB/s eta 0:00:01\n",
      "\u001b[?25hCollecting markdown>=2.6.8\n",
      "  Downloading Markdown-3.3.6-py3-none-any.whl (97 kB)\n",
      "\u001b[K     |████████████████████████████████| 97 kB 11.4 MB/s eta 0:00:01\n",
      "\u001b[?25hCollecting google-auth-oauthlib<0.5,>=0.4.1\n",
      "  Downloading google_auth_oauthlib-0.4.6-py2.py3-none-any.whl (18 kB)\n",
      "Collecting protobuf>=3.6.0\n",
      "  Downloading protobuf-3.20.0-cp38-cp38-manylinux_2_5_x86_64.manylinux1_x86_64.whl (1.0 MB)\n",
      "\u001b[K     |████████████████████████████████| 1.0 MB 28.0 MB/s eta 0:00:01\n",
      "\u001b[?25hRequirement already satisfied: setuptools>=41.0.0 in /opt/conda/lib/python3.8/site-packages (from tensorboard>=2.2.0->pytorch_lightning) (58.0.4)\n",
      "Collecting tensorboard-plugin-wit>=1.6.0\n",
      "  Downloading tensorboard_plugin_wit-1.8.1-py3-none-any.whl (781 kB)\n",
      "\u001b[K     |████████████████████████████████| 781 kB 32.5 MB/s eta 0:00:01\n",
      "\u001b[?25hCollecting absl-py>=0.4\n",
      "  Downloading absl_py-1.0.0-py3-none-any.whl (126 kB)\n",
      "\u001b[K     |████████████████████████████████| 126 kB 19.4 MB/s eta 0:00:01\n",
      "\u001b[?25hCollecting google-auth<3,>=1.6.3\n",
      "  Downloading google_auth-2.6.5-py2.py3-none-any.whl (156 kB)\n",
      "\u001b[K     |████████████████████████████████| 156 kB 17.1 MB/s eta 0:00:01\n",
      "\u001b[?25hCollecting tensorboard-data-server<0.7.0,>=0.6.0\n",
      "  Downloading tensorboard_data_server-0.6.1-py3-none-manylinux2010_x86_64.whl (4.9 MB)\n",
      "\u001b[K     |████████████████████████████████| 4.9 MB 23.8 MB/s eta 0:00:01\n",
      "\u001b[?25hCollecting werkzeug>=0.11.15\n",
      "  Downloading Werkzeug-2.1.1-py3-none-any.whl (224 kB)\n",
      "\u001b[K     |████████████████████████████████| 224 kB 24.8 MB/s eta 0:00:01\n",
      "\u001b[?25hCollecting rsa<5,>=3.1.4\n",
      "  Downloading rsa-4.8-py3-none-any.whl (39 kB)\n",
      "Collecting cachetools<6.0,>=2.0.0\n",
      "  Downloading cachetools-5.0.0-py3-none-any.whl (9.1 kB)\n",
      "Collecting pyasn1-modules>=0.2.1\n",
      "  Downloading pyasn1_modules-0.2.8-py2.py3-none-any.whl (155 kB)\n",
      "\u001b[K     |████████████████████████████████| 155 kB 26.4 MB/s eta 0:00:01\n",
      "\u001b[?25hCollecting requests-oauthlib>=0.7.0\n",
      "  Downloading requests_oauthlib-1.3.1-py2.py3-none-any.whl (23 kB)\n",
      "Collecting importlib-metadata>=4.4\n",
      "  Downloading importlib_metadata-4.11.3-py3-none-any.whl (18 kB)\n",
      "Collecting pyasn1<0.5.0,>=0.4.6\n",
      "  Downloading pyasn1-0.4.8-py2.py3-none-any.whl (77 kB)\n",
      "\u001b[K     |████████████████████████████████| 77 kB 11.5 MB/s eta 0:00:01\n",
      "\u001b[?25hRequirement already satisfied: idna<4,>=2.5 in /opt/conda/lib/python3.8/site-packages (from requests->fsspec[http]!=2021.06.0,>=2021.05.0->pytorch_lightning) (3.3)\n",
      "Requirement already satisfied: certifi>=2017.4.17 in /opt/conda/lib/python3.8/site-packages (from requests->fsspec[http]!=2021.06.0,>=2021.05.0->pytorch_lightning) (2021.10.8)\n",
      "Requirement already satisfied: urllib3<1.27,>=1.21.1 in /opt/conda/lib/python3.8/site-packages (from requests->fsspec[http]!=2021.06.0,>=2021.05.0->pytorch_lightning) (1.26.7)\n",
      "Requirement already satisfied: charset-normalizer~=2.0.0 in /opt/conda/lib/python3.8/site-packages (from requests->fsspec[http]!=2021.06.0,>=2021.05.0->pytorch_lightning) (2.0.4)\n",
      "Collecting oauthlib>=3.0.0\n",
      "  Downloading oauthlib-3.2.0-py3-none-any.whl (151 kB)\n",
      "\u001b[K     |████████████████████████████████| 151 kB 31.3 MB/s eta 0:00:01\n",
      "\u001b[?25hRequirement already satisfied: attrs>=17.3.0 in /opt/conda/lib/python3.8/site-packages (from aiohttp->fsspec[http]!=2021.06.0,>=2021.05.0->pytorch_lightning) (21.4.0)\n",
      "Collecting multidict<7.0,>=4.5\n",
      "  Downloading multidict-6.0.2-cp38-cp38-manylinux_2_17_x86_64.manylinux2014_x86_64.whl (121 kB)\n",
      "\u001b[K     |████████████████████████████████| 121 kB 21.8 MB/s eta 0:00:01\n",
      "\u001b[?25hCollecting async-timeout<5.0,>=4.0.0a3\n",
      "  Downloading async_timeout-4.0.2-py3-none-any.whl (5.8 kB)\n",
      "Collecting aiosignal>=1.1.2\n",
      "  Downloading aiosignal-1.2.0-py3-none-any.whl (8.2 kB)\n",
      "Collecting yarl<2.0,>=1.0\n",
      "  Downloading yarl-1.7.2-cp38-cp38-manylinux_2_5_x86_64.manylinux1_x86_64.manylinux_2_12_x86_64.manylinux2010_x86_64.whl (308 kB)\n",
      "\u001b[K     |████████████████████████████████| 308 kB 28.5 MB/s eta 0:00:01\n",
      "\u001b[?25hCollecting frozenlist>=1.1.1\n",
      "  Downloading frozenlist-1.3.0-cp38-cp38-manylinux_2_5_x86_64.manylinux1_x86_64.manylinux_2_17_x86_64.manylinux2014_x86_64.whl (158 kB)\n",
      "\u001b[K     |████████████████████████████████| 158 kB 27.8 MB/s eta 0:00:01\n",
      "\u001b[?25hRequirement already satisfied: pillow!=8.3.*,>=5.3.0 in /opt/conda/lib/python3.8/site-packages (from torchvision->timm) (9.0.1)\n",
      "Building wheels for collected packages: sklearn, efficientnet-pytorch, antlr4-python3-runtime\n",
      "  Building wheel for sklearn (setup.py) ... \u001b[?25ldone\n",
      "\u001b[?25h  Created wheel for sklearn: filename=sklearn-0.0-py2.py3-none-any.whl size=1310 sha256=601dece5ea5671eaa6c3ce2d1c37377133735f6295325f4d0d762ae421b80945\n",
      "  Stored in directory: /root/.cache/pip/wheels/22/0b/40/fd3f795caaa1fb4c6cb738bc1f56100be1e57da95849bfc897\n",
      "  Building wheel for efficientnet-pytorch (setup.py) ... \u001b[?25ldone\n",
      "\u001b[?25h  Created wheel for efficientnet-pytorch: filename=efficientnet_pytorch-0.7.1-py3-none-any.whl size=16446 sha256=c003e68596f941fdfd04d3a161bd24fd4797f60f745b9ac1d1f829db9081811f\n",
      "  Stored in directory: /root/.cache/pip/wheels/84/b9/90/25a0195cf95fb5533db96f1c77ea3f296b7cc86ae8ae48e3dc\n",
      "  Building wheel for antlr4-python3-runtime (setup.py) ... \u001b[?25ldone\n",
      "\u001b[?25h  Created wheel for antlr4-python3-runtime: filename=antlr4_python3_runtime-4.8-py3-none-any.whl size=141230 sha256=e8aa8b43e39e3f7f082661eaa61174933ebda26e34cf6584331ac42b3b784de7\n",
      "  Stored in directory: /root/.cache/pip/wheels/c8/d0/ab/d43c02eaddc5b9004db86950802442ad9a26f279c619e28da0\n",
      "Successfully built sklearn efficientnet-pytorch antlr4-python3-runtime\n",
      "Installing collected packages: pyasn1, rsa, pyasn1-modules, oauthlib, multidict, frozenlist, cachetools, yarl, typing-extensions, requests-oauthlib, importlib-metadata, google-auth, async-timeout, aiosignal, werkzeug, threadpoolctl, tensorboard-plugin-wit, tensorboard-data-server, scipy, pyDeprecate, protobuf, markdown, joblib, grpcio, google-auth-oauthlib, fsspec, antlr4-python3-runtime, aiohttp, absl-py, torchmetrics, tensorboard, scikit-learn, pytorch-ranger, omegaconf, importlib-resources, torch-optimizer, timm, sklearn, pytorch-lightning, pandas, lxml, hydra-core, einops, efficientnet-pytorch\n",
      "  Attempting uninstall: typing-extensions\n",
      "    Found existing installation: typing-extensions 3.10.0.2\n",
      "    Uninstalling typing-extensions-3.10.0.2:\n",
      "      Successfully uninstalled typing-extensions-3.10.0.2\n",
      "  Attempting uninstall: importlib-resources\n",
      "    Found existing installation: importlib-resources 5.7.1\n",
      "    Uninstalling importlib-resources-5.7.1:\n",
      "      Successfully uninstalled importlib-resources-5.7.1\n",
      "Successfully installed absl-py-1.0.0 aiohttp-3.8.1 aiosignal-1.2.0 antlr4-python3-runtime-4.8 async-timeout-4.0.2 cachetools-5.0.0 efficientnet-pytorch-0.7.1 einops-0.4.1 frozenlist-1.3.0 fsspec-2022.3.0 google-auth-2.6.5 google-auth-oauthlib-0.4.6 grpcio-1.44.0 hydra-core-1.1.2 importlib-metadata-4.11.3 importlib-resources-5.2.3 joblib-1.1.0 lxml-4.8.0 markdown-3.3.6 multidict-6.0.2 oauthlib-3.2.0 omegaconf-2.1.2 pandas-1.4.2 protobuf-3.20.0 pyDeprecate-0.3.2 pyasn1-0.4.8 pyasn1-modules-0.2.8 pytorch-lightning-1.6.1 pytorch-ranger-0.1.1 requests-oauthlib-1.3.1 rsa-4.8 scikit-learn-1.0.2 scipy-1.8.0 sklearn-0.0 tensorboard-2.8.0 tensorboard-data-server-0.6.1 tensorboard-plugin-wit-1.8.1 threadpoolctl-3.1.0 timm-0.5.4 torch-optimizer-0.3.0 torchmetrics-0.8.0 typing-extensions-4.2.0 werkzeug-2.1.1 yarl-1.7.2\n",
      "\u001b[33mWARNING: Running pip as the 'root' user can result in broken permissions and conflicting behaviour with the system package manager. It is recommended to use a virtual environment instead: https://pip.pypa.io/warnings/venv\u001b[0m\n"
     ]
    }
   ],
   "source": [
    "!pip install torchmetrics pandas lxml sklearn scikit-learn efficientnet_pytorch einops timm pytorch_lightning hydra-core torch_optimizer "
   ]
  },
  {
   "cell_type": "code",
   "execution_count": 1,
   "id": "c2215a9c",
   "metadata": {},
   "outputs": [
    {
     "name": "stdout",
     "output_type": "stream",
     "text": [
      "Found existing installation: wandb 0.12.14\n",
      "Uninstalling wandb-0.12.14:\n",
      "  Successfully uninstalled wandb-0.12.14\n",
      "\u001b[33mWARNING: Running pip as the 'root' user can result in broken permissions and conflicting behaviour with the system package manager. It is recommended to use a virtual environment instead: https://pip.pypa.io/warnings/venv\u001b[0m\n",
      "\u001b[33mWARNING: Running pip as the 'root' user can result in broken permissions and conflicting behaviour with the system package manager. It is recommended to use a virtual environment instead: https://pip.pypa.io/warnings/venv\u001b[0m\n",
      "Note: you may need to restart the kernel to use updated packages.\n"
     ]
    }
   ],
   "source": [
    "pip uninstall wandb -y; pip install --quiet wandb\n"
   ]
  },
  {
   "cell_type": "code",
   "execution_count": 1,
   "id": "3e7442e4",
   "metadata": {
    "executionInfo": {
     "elapsed": 5,
     "status": "ok",
     "timestamp": 1650350302434,
     "user": {
      "displayName": "Jose Carranza",
      "userId": "00479404608526223403"
     },
     "user_tz": 360
    },
    "id": "lNj2Ej8RTKnj"
   },
   "outputs": [],
   "source": [
    "CODE_ROOT = '/workspace/biomachina/'"
   ]
  },
  {
   "cell_type": "code",
   "execution_count": 2,
   "id": "d0de5b65",
   "metadata": {
    "executionInfo": {
     "elapsed": 4,
     "status": "ok",
     "timestamp": 1650350302434,
     "user": {
      "displayName": "Jose Carranza",
      "userId": "00479404608526223403"
     },
     "user_tz": 360
    },
    "id": "Za37dtaIRd38"
   },
   "outputs": [],
   "source": [
    "import sys\n",
    "sys.path.insert(0, CODE_ROOT)"
   ]
  },
  {
   "cell_type": "code",
   "execution_count": 3,
   "id": "831d2a8c",
   "metadata": {
    "executionInfo": {
     "elapsed": 214,
     "status": "ok",
     "timestamp": 1650350302644,
     "user": {
      "displayName": "Jose Carranza",
      "userId": "00479404608526223403"
     },
     "user_tz": 360
    },
    "id": "Yo74cHL5z_d1"
   },
   "outputs": [],
   "source": [
    "!mkdir -p \"/workspace/biomachina/engine_checkpoints\"\n",
    "!mkdir -p \"/workspace/biomachina/model_checkpoints\"\n",
    "!mkdir -p \"/workspace/biomachina/logs/\""
   ]
  },
  {
   "cell_type": "code",
   "execution_count": 4,
   "id": "829d44e9",
   "metadata": {
    "colab": {
     "base_uri": "https://localhost:8080/"
    },
    "executionInfo": {
     "elapsed": 23029,
     "status": "ok",
     "timestamp": 1650350325669,
     "user": {
      "displayName": "Jose Carranza",
      "userId": "00479404608526223403"
     },
     "user_tz": 360
    },
    "id": "a2526670-3537-4fb1-a599-01c90bbeac2b",
    "outputId": "a050f78b-d102-46bf-9d55-5c3b7eade563"
   },
   "outputs": [],
   "source": [
    "import os\n",
    "import pickle\n",
    "import warnings\n",
    "\n",
    "import hydra\n",
    "import pandas as pd\n",
    "import torch\n",
    "from omegaconf import DictConfig, OmegaConf\n",
    "from pytorch_lightning.callbacks import EarlyStopping, StochasticWeightAveraging\n",
    "from torch.utils.data import DataLoader\n",
    "from torchvision import transforms\n",
    "import pytorch_lightning as pl\n",
    "from pytorch_lightning import loggers as pl_loggers\n",
    "from pytorch_lightning.loggers import WandbLogger\n",
    "from tqdm import tqdm\n",
    "\n",
    "\n",
    "from tqdm import tqdm_notebook as tqdm\n",
    "\n",
    "\n",
    "from our_datasets import PlatCLEFSimCLR, PlantCLEF2022Supr\n",
    "from engines import SimCLREngine, SuprEngine\n",
    "from models.factory import create_model\n",
    "\n",
    "from summary import *\n",
    "\n",
    "warnings.filterwarnings(\"ignore\")\n",
    "warnings.simplefilter(action='ignore', category=FutureWarning)\n"
   ]
  },
  {
   "cell_type": "code",
   "execution_count": 5,
   "id": "17aa0480",
   "metadata": {
    "colab": {
     "base_uri": "https://localhost:8080/"
    },
    "executionInfo": {
     "elapsed": 62,
     "status": "ok",
     "timestamp": 1650350325670,
     "user": {
      "displayName": "Jose Carranza",
      "userId": "00479404608526223403"
     },
     "user_tz": 360
    },
    "id": "djAsP7GhWbzO",
    "outputId": "36bee51b-db42-4cb5-ea3d-47f73dabb7c2"
   },
   "outputs": [
    {
     "data": {
      "text/plain": [
       "hydra.initialize_config_dir()"
      ]
     },
     "execution_count": 5,
     "metadata": {},
     "output_type": "execute_result"
    }
   ],
   "source": [
    "import os\n",
    "from hydra import initialize, initialize_config_module, initialize_config_dir, compose\n",
    "from omegaconf import OmegaConf\n",
    "initialize_config_dir(config_dir=os.path.join(CODE_ROOT, \"config\"))\n"
   ]
  },
  {
   "cell_type": "code",
   "execution_count": 6,
   "id": "4894137d",
   "metadata": {
    "executionInfo": {
     "elapsed": 54,
     "status": "ok",
     "timestamp": 1650350325670,
     "user": {
      "displayName": "Jose Carranza",
      "userId": "00479404608526223403"
     },
     "user_tz": 360
    },
    "id": "kUBbdTevZEp9"
   },
   "outputs": [],
   "source": [
    "def get_engine(cfg, loader, loader_val, model, class_dim, epochs):\n",
    "    if cfg.engine.name == \"simclr\":\n",
    "        return SimCLREngine(model=model, loader=loader, loader_val=loader_val, cfg=cfg, epochs=epochs)\n",
    "    else:\n",
    "        return SuprEngine(model=model, loader=loader, loader_val=loader_val, cfg=cfg, epochs=epochs, class_dim=class_dim)\n",
    "\n",
    "\n",
    "def get_model(cfg, original_path, num_classes):\n",
    "    model_cfg = OmegaConf.to_container(cfg.model)\n",
    "    model_cfg[\"num_classes\"] = num_classes\n",
    "    pretrained = cfg.pretrained_model\n",
    "    checkpoint_dir = get_full_path(original_path, cfg.model_checkpoints)\n",
    "    model_check_point = os.path.join(checkpoint_dir, cfg.pretrained_model_point)\n",
    "    return create_model(model_name=cfg.model.name, pretrained=pretrained, checkpoint_path=model_check_point,\n",
    "                        **model_cfg)\n",
    "\n",
    "\n",
    "def get_exp_name(cfg):\n",
    "    return f\"{cfg.name}-dataset={cfg.dataset.name}\"\n",
    "\n",
    "\n",
    "def get_full_path(base_path, path):\n",
    "    r\"\"\"\n",
    "        Expands environment variables and user alias (~ tilde), in the case of relative paths it uses the base path\n",
    "        to create a full path.\n",
    "\n",
    "        args:\n",
    "            base_path: used in case of path is relative path to expand the path.\n",
    "            path: directory to be expanded. i.e data, ./web, ~/data, $HOME, %USER%, /data\n",
    "    \"\"\"\n",
    "    eval_path = os.path.expanduser(os.path.expandvars(path))\n",
    "    return eval_path if os.path.isabs(eval_path) else os.path.join(base_path, eval_path)\n",
    "\n",
    "\n",
    "def get_dataset(original_path, cfg):\n",
    "    columns = [\"classid\", \"image_path\", \"species\", \"genus\", \"family\"]\n",
    "    ds_root = get_full_path(original_path, cfg.dataset.path)\n",
    "    df = pd.read_csv(os.path.join(ds_root, cfg.dataset.csv), sep=\";\", usecols=columns)\n",
    "    # df = df.head(n=10000)\n",
    "    if cfg.dataset.name == \"web\":\n",
    "        ds = PlatCLEFSimCLR(df, root=os.path.join(ds_root, cfg.dataset.images),\n",
    "                            label_col=cfg.dataset.label_col,\n",
    "                            filename_col=cfg.dataset.filename_col,\n",
    "                            size=cfg.resolution)\n",
    "        return ds, ds, None\n",
    "    if cfg.dataset.name == \"trusted\":\n",
    "        from os.path import exists\n",
    "        path = os.path.join(original_path, \"trusted_ds_cache.pickle\")\n",
    "        if exists(path):\n",
    "            ds = pickle.load(open(path, \"rb\"))\n",
    "            print(\"Dataset cache loaded.\")\n",
    "        else:\n",
    "            transform = transforms.Compose([transforms.Resize([cfg.resolution, cfg.resolution]),\n",
    "                                            transforms.ToTensor(),\n",
    "                                            transforms.Normalize(mean=[0.485, 0.456, 0.406], std=[0.229, 0.224, 0.225]),\n",
    "                                            ])\n",
    "            ds = PlantCLEF2022Supr(df, root=os.path.join(ds_root, cfg.dataset.images),\n",
    "                                   label_col=cfg.dataset.label_col, filename_col=cfg.dataset.filename_col,\n",
    "                                   transform=transform)\n",
    "            pickle.dump(ds, open(path, \"wb\"))\n",
    "        dst, dsv = ds.split(train_perc=cfg.dataset.train_perc)\n",
    "        return ds, dst, dsv"
   ]
  },
  {
   "cell_type": "code",
   "execution_count": 7,
   "id": "00806229",
   "metadata": {},
   "outputs": [],
   "source": [
    "# import wandb\n",
    "# wandb.login()\n",
    "# wandb.init(project=\"plantclef2022\", entity=\"tesiarioscarranza\")"
   ]
  },
  {
   "cell_type": "code",
   "execution_count": 8,
   "id": "5b5ba872",
   "metadata": {
    "executionInfo": {
     "elapsed": 53,
     "status": "ok",
     "timestamp": 1650350325671,
     "user": {
      "displayName": "Jose Carranza",
      "userId": "00479404608526223403"
     },
     "user_tz": 360
    },
    "id": "dyshm35oV1oU"
   },
   "outputs": [],
   "source": [
    "\n",
    "# @hydra.main(config_path=\"config\", config_name=\"simclr_vit.yaml\")\n",
    "# @hydra.main(config_path=\"config\", config_name=\"supr_hresnet50.yaml\")\n",
    "# @hydra.main(config_path=\"config\", config_name=\"supr_hresnet101.yaml\")\n",
    "# @hydra.main(config_path=\"config\", config_name=\"supr_vitae.yaml\")\n",
    "# @hydra.main(config_path=\"config\", config_name=\"supr_hefficientnet_b4.yaml\")\n",
    "# @hydra.main(config_path=\"config\", config_name=\"supr_hcct_14_7x2_224.yaml\")\n",
    "# @hydra.main(config_path=\"config\", config_name=\"supr_hdensenet.yaml\")\n",
    "# @hydra.main(config_path=\"config\", config_name=\"supr_hefficientnet_b4.yaml\")\n",
    "def execute_training(cfg: DictConfig):\n",
    "    exp_name = get_exp_name(cfg)\n",
    "    original_path = CODE_ROOT # hydra.utils.get_original_cwd()\n",
    "    ds, dst, dsv = get_dataset(original_path=original_path, cfg=cfg)\n",
    "    loader = torch.utils.data.DataLoader(dst, batch_size=cfg.batch_size, shuffle=True, drop_last=True,\n",
    "                                         num_workers=cfg.num_workers, persistent_workers=True, pin_memory=True)\n",
    "    loader_val = torch.utils.data.DataLoader(dsv, batch_size=cfg.batch_size, shuffle=False, drop_last=True,\n",
    "                                             num_workers= cfg.num_workers, pin_memory=True,\n",
    "                                             persistent_workers=True) if dsv else None\n",
    "                                             \n",
    "\n",
    "    print(ds)\n",
    "    print(dst)\n",
    "    print(dsv)\n",
    "    model = get_model(cfg=cfg, original_path=original_path, num_classes=ds.class_size)\n",
    "    # summary(model, (3, cfg.resolution, cfg.resolution), (), device='cpu')\n",
    "    engine = get_engine(cfg=cfg, loader=loader, loader_val=loader_val, model=model, class_dim=ds.class_size, epochs=cfg.epochs)\n",
    "\n",
    "    from pytorch_lightning.callbacks import ModelCheckpoint\n",
    "\n",
    "    engine_checkpoint_callback = ModelCheckpoint(\n",
    "        monitor=\"train_loss\",\n",
    "        dirpath=os.path.join(original_path, cfg.engine_checkpoints),\n",
    "        save_top_k=1,\n",
    "        mode=\"min\",\n",
    "        filename=f\"{exp_name}\" + \"-{epoch}-{train_loss:.2f}-{train_acc:.2f}--{val_loss:.2f}-{val_acc:.2f}\",\n",
    "        save_on_train_epoch_end=True\n",
    "    )\n",
    "\n",
    "    # model_checkpoint_callback = ModelCheckpoint(\n",
    "    #     monitor=\"train_loss\",\n",
    "    #     dirpath=os.path.join(original_path, cfg.model_checkpoints),\n",
    "    #     save_top_k=1,\n",
    "    #     mode=\"min\",\n",
    "    #     filename=f\"{exp_name}\" + \"-{epoch}-{train_loss:.2f}-{train_acc:.2f}--{val_loss:.2f}-{val_acc:.2f}\",\n",
    "    #     save_on_train_epoch_end=True,\n",
    "    #     every_n_train_steps=int((len(ds) / cfg.batch_size) * cfg.time_per_epoch),\n",
    "    #     save_weights_only=True\n",
    "    # )\n",
    "\n",
    "    #tb_logger = pl_loggers.TensorBoardLogger(name=exp_name, save_dir=os.path.join(original_path, \"logs\"))\n",
    "    wandb_logger = WandbLogger(name=exp_name, project=\"plantclef2022\", entity=\"tesiarioscarranza\")\n",
    "\n",
    "    callbacks = [ engine_checkpoint_callback, StochasticWeightAveraging(swa_lrs=1e-2)]\n",
    "    val_loaders = []\n",
    "    if dsv:\n",
    "        callbacks.append(EarlyStopping(monitor=\"val_loss\"))\n",
    "        val_loaders.append(loader_val)\n",
    "\n",
    "#     trainer = pl.Trainer(accelerator=\"tpu\", tpu_cores=8, max_epochs=cfg.epochs, progress_bar_refresh_rate=20,\n",
    "#                          callbacks=callbacks, logger=[ tb_logger ], limit_train_batches=1.0, gradient_clip_val=0.5, precision=16, num_sanity_val_steps=0)\n",
    "#                         #  ,\n",
    "#                         #  gradient_clip_val=0.5, num_sanity_val_steps=0)\n",
    "    trainer = pl.Trainer(gpus=1, num_nodes=2, precision=cfg.precision, max_epochs=cfg.epochs, strategy='dp',\n",
    "                         callbacks=callbacks, logger=[wandb_logger], limit_train_batches=1.0, amp_backend=\"native\",\n",
    "                         gradient_clip_val=0.5, accumulate_grad_batches=32, num_sanity_val_steps=0)\n",
    "\n",
    "    if cfg.last_engine_checkpoint:\n",
    "        trainer.fit(engine, train_dataloaders=loader, val_dataloaders=val_loaders,\n",
    "                    ckpt_path=os.path.join(original_path, cfg.engine_checkpoints, cfg.last_engine_checkpoint))\n",
    "    else:\n",
    "        trainer.fit(engine, train_dataloaders=loader, val_dataloaders=val_loaders)\n",
    "\n",
    "\n"
   ]
  },
  {
   "cell_type": "code",
   "execution_count": 9,
   "id": "317b7469",
   "metadata": {
    "colab": {
     "base_uri": "https://localhost:8080/"
    },
    "executionInfo": {
     "elapsed": 217,
     "status": "ok",
     "timestamp": 1650350325836,
     "user": {
      "displayName": "Jose Carranza",
      "userId": "00479404608526223403"
     },
     "user_tz": 360
    },
    "id": "QZgMSUNkYt0m",
    "outputId": "91bef672-c10f-4dcf-e6e5-de0b672c55d5"
   },
   "outputs": [
    {
     "name": "stdout",
     "output_type": "stream",
     "text": [
      "{'batch_size': 176, 'name': 'supr_hefficientnet_b4', 'pretrained_model': True, 'pretrained_model_point': '', 'last_engine_checkpoint': '', 'resolution': 224, 'n_views': 2, 'epochs': 10, 'optimizer': 'Adam', 'scheduler': 'CosineAnnealingLR', 'lr': 0.01, 'momentum': 0.9, 'weight_decay': 0.0001, 'log_every_n_steps': 10, 'precision': 16, 'temperature': 0.07, 'fp16_precision': True, 'num_workers': 4, 'time_per_epoch': 0.25, 'engine_checkpoints': 'engine_checkpoints', 'model_checkpoints': 'model_checkpoints', 'engine': {'name': 'supr'}, 'dataset': {'name': 'trusted', 'path': 'trusted', 'csv': 'PlantCLEF2022_trusted_training_metadata.csv', 'images': 'images', 'label_col': 'classid', 'filename_col': 'image_path', 'train_perc': 0.9}, 'model': {'name': 'hefficientnet_b4', 'ntokens_per_class': 80, 'pretrained_model_point': ''}}\n"
     ]
    }
   ],
   "source": [
    "cfg=compose(config_name=\"supr_hefficientnet_b4\")\n",
    "print(cfg)"
   ]
  },
  {
   "cell_type": "code",
   "execution_count": 10,
   "id": "54c41386",
   "metadata": {
    "colab": {
     "background_save": true,
     "base_uri": "https://localhost:8080/",
     "height": 555
    },
    "id": "HEbxGUgO9Q2V"
   },
   "outputs": [
    {
     "name": "stdout",
     "output_type": "stream",
     "text": [
      "Dataset cache loaded.\n",
      "Dataset PlantCLEF2022Supr\n",
      "    Number of datapoints: 34431\n",
      "    Root Location: /workspace/biomachina/trusted/images\n",
      "    Transforms (if any): Compose(\n",
      "                             Resize(size=[224, 224], interpolation=bilinear, max_size=None, antialias=None)\n",
      "                             ToTensor()\n",
      "                             Normalize(mean=[0.485, 0.456, 0.406], std=[0.229, 0.224, 0.225])\n",
      "                         )\n",
      "Label: classid - 799Size: (34431, 7)\n",
      "<torch.utils.data.dataset.Subset object at 0x7fb608e7f940>\n",
      "<torch.utils.data.dataset.Subset object at 0x7fb6abcff670>\n",
      "Loaded pretrained weights for efficientnet-b4\n"
     ]
    },
    {
     "name": "stderr",
     "output_type": "stream",
     "text": [
      "\u001b[34m\u001b[1mwandb\u001b[0m: Currently logged in as: \u001b[33mtesiarioscarranza\u001b[0m (use `wandb login --relogin` to force relogin)\n"
     ]
    },
    {
     "data": {
      "text/html": [
       "Tracking run with wandb version 0.12.14"
      ],
      "text/plain": [
       "<IPython.core.display.HTML object>"
      ]
     },
     "metadata": {},
     "output_type": "display_data"
    },
    {
     "data": {
      "text/html": [
       "Run data is saved locally in <code>/workspace/biomachina/wandb/run-20220419_213643-azf5r931</code>"
      ],
      "text/plain": [
       "<IPython.core.display.HTML object>"
      ]
     },
     "metadata": {},
     "output_type": "display_data"
    },
    {
     "data": {
      "text/html": [
       "Syncing run <strong><a href=\"https://wandb.ai/tesiarioscarranza/plantclef2022/runs/azf5r931\" target=\"_blank\">supr_hefficientnet_b4-dataset=trusted</a></strong> to <a href=\"https://wandb.ai/tesiarioscarranza/plantclef2022\" target=\"_blank\">Weights & Biases</a> (<a href=\"https://wandb.me/run\" target=\"_blank\">docs</a>)<br/>"
      ],
      "text/plain": [
       "<IPython.core.display.HTML object>"
      ]
     },
     "metadata": {},
     "output_type": "display_data"
    },
    {
     "name": "stderr",
     "output_type": "stream",
     "text": [
      "Using 16bit native Automatic Mixed Precision (AMP)\n",
      "GPU available: True, used: True\n",
      "TPU available: False, using: 0 TPU cores\n",
      "IPU available: False, using: 0 IPUs\n",
      "HPU available: False, using: 0 HPUs\n",
      "`Trainer(limit_train_batches=1.0)` was configured so 100% of the batches per epoch will be used..\n",
      "LOCAL_RANK: 0 - CUDA_VISIBLE_DEVICES: [0,1]\n",
      "\n",
      "  | Name            | Type                     | Params\n",
      "-------------------------------------------------------------\n",
      "0 | model           | HierarchicalEfficientNet | 17.9 M\n",
      "1 | train_acc       | Accuracy                 | 0     \n",
      "2 | train_precision | Precision                | 0     \n",
      "3 | criterion       | CrossEntropyLoss         | 0     \n",
      "4 | val_criterion   | CrossEntropyLoss         | 0     \n",
      "5 | train_mrr       | MRR                      | 0     \n",
      "6 | val_mrr         | MRR                      | 0     \n",
      "7 | val_acc         | Accuracy                 | 0     \n",
      "8 | val_precision   | Precision                | 0     \n",
      "-------------------------------------------------------------\n",
      "17.9 M    Trainable params\n",
      "0         Non-trainable params\n",
      "17.9 M    Total params\n",
      "35.765    Total estimated model params size (MB)\n"
     ]
    },
    {
     "data": {
      "application/vnd.jupyter.widget-view+json": {
       "model_id": "89fa0d1b30d24620a1a66ec7c4f77a75",
       "version_major": 2,
       "version_minor": 0
      },
      "text/plain": [
       "Training: 0it [00:00, ?it/s]"
      ]
     },
     "metadata": {},
     "output_type": "display_data"
    },
    {
     "data": {
      "application/vnd.jupyter.widget-view+json": {
       "model_id": "7737222437f34ad1957f5adcdca144a5",
       "version_major": 2,
       "version_minor": 0
      },
      "text/plain": [
       "Validation: 0it [00:00, ?it/s]"
      ]
     },
     "metadata": {},
     "output_type": "display_data"
    },
    {
     "data": {
      "application/vnd.jupyter.widget-view+json": {
       "model_id": "303dd740d7604ea9b8db6465cfbed6bd",
       "version_major": 2,
       "version_minor": 0
      },
      "text/plain": [
       "Validation: 0it [00:00, ?it/s]"
      ]
     },
     "metadata": {},
     "output_type": "display_data"
    },
    {
     "data": {
      "application/vnd.jupyter.widget-view+json": {
       "model_id": "840267f0b99e4259ab24204d9c13ef23",
       "version_major": 2,
       "version_minor": 0
      },
      "text/plain": [
       "Validation: 0it [00:00, ?it/s]"
      ]
     },
     "metadata": {},
     "output_type": "display_data"
    },
    {
     "data": {
      "application/vnd.jupyter.widget-view+json": {
       "model_id": "2a98ee01badb47408569ba8a7118693b",
       "version_major": 2,
       "version_minor": 0
      },
      "text/plain": [
       "Validation: 0it [00:00, ?it/s]"
      ]
     },
     "metadata": {},
     "output_type": "display_data"
    },
    {
     "data": {
      "application/vnd.jupyter.widget-view+json": {
       "model_id": "3620e8e2071f4d2d812dc623c969b0e2",
       "version_major": 2,
       "version_minor": 0
      },
      "text/plain": [
       "Validation: 0it [00:00, ?it/s]"
      ]
     },
     "metadata": {},
     "output_type": "display_data"
    },
    {
     "data": {
      "application/vnd.jupyter.widget-view+json": {
       "model_id": "98e3dbfea8024225bd30d9aac45bfd5f",
       "version_major": 2,
       "version_minor": 0
      },
      "text/plain": [
       "Validation: 0it [00:00, ?it/s]"
      ]
     },
     "metadata": {},
     "output_type": "display_data"
    },
    {
     "data": {
      "application/vnd.jupyter.widget-view+json": {
       "model_id": "606ee7e6d0c5480d8a47b6abbbb12e7f",
       "version_major": 2,
       "version_minor": 0
      },
      "text/plain": [
       "Validation: 0it [00:00, ?it/s]"
      ]
     },
     "metadata": {},
     "output_type": "display_data"
    },
    {
     "name": "stderr",
     "output_type": "stream",
     "text": [
      "Swapping scheduler `CosineAnnealingLR` for `SWALR`\n"
     ]
    },
    {
     "data": {
      "application/vnd.jupyter.widget-view+json": {
       "model_id": "413612d01d2f44788f46662c013fc3f5",
       "version_major": 2,
       "version_minor": 0
      },
      "text/plain": [
       "Validation: 0it [00:00, ?it/s]"
      ]
     },
     "metadata": {},
     "output_type": "display_data"
    },
    {
     "data": {
      "application/vnd.jupyter.widget-view+json": {
       "model_id": "a2b9085c061d46c9936f0e85e9cbc9c7",
       "version_major": 2,
       "version_minor": 0
      },
      "text/plain": [
       "Validation: 0it [00:00, ?it/s]"
      ]
     },
     "metadata": {},
     "output_type": "display_data"
    }
   ],
   "source": [
    "execute_training(cfg)"
   ]
  },
  {
   "cell_type": "code",
   "execution_count": null,
   "id": "d1c0be6b",
   "metadata": {},
   "outputs": [],
   "source": [
    "# !python main.py"
   ]
  },
  {
   "cell_type": "code",
   "execution_count": null,
   "id": "5ebd6ecf",
   "metadata": {},
   "outputs": [],
   "source": []
  }
 ],
 "metadata": {
  "accelerator": "TPU",
  "colab": {
   "background_execution": "on",
   "collapsed_sections": [],
   "machine_shape": "hm",
   "name": "colab_train.ipynb",
   "version": ""
  },
  "kernelspec": {
   "display_name": "Python 3 (ipykernel)",
   "language": "python",
   "name": "python3"
  },
  "language_info": {
   "codemirror_mode": {
    "name": "ipython",
    "version": 3
   },
   "file_extension": ".py",
   "mimetype": "text/x-python",
   "name": "python",
   "nbconvert_exporter": "python",
   "pygments_lexer": "ipython3",
   "version": "3.8.12"
  },
  "widgets": {
   "application/vnd.jupyter.widget-state+json": {
    "5c534b7ab61345b0a7e2188714a9d675": {
     "model_module": "@jupyter-widgets/controls",
     "model_module_version": "1.5.0",
     "model_name": "DescriptionStyleModel",
     "state": {
      "_model_module": "@jupyter-widgets/controls",
      "_model_module_version": "1.5.0",
      "_model_name": "DescriptionStyleModel",
      "_view_count": null,
      "_view_module": "@jupyter-widgets/base",
      "_view_module_version": "1.2.0",
      "_view_name": "StyleView",
      "description_width": ""
     }
    },
    "659b7fdd6f64401b974f414363e55bc5": {
     "model_module": "@jupyter-widgets/base",
     "model_module_version": "1.2.0",
     "model_name": "LayoutModel",
     "state": {
      "_model_module": "@jupyter-widgets/base",
      "_model_module_version": "1.2.0",
      "_model_name": "LayoutModel",
      "_view_count": null,
      "_view_module": "@jupyter-widgets/base",
      "_view_module_version": "1.2.0",
      "_view_name": "LayoutView",
      "align_content": null,
      "align_items": null,
      "align_self": null,
      "border": null,
      "bottom": null,
      "display": null,
      "flex": null,
      "flex_flow": null,
      "grid_area": null,
      "grid_auto_columns": null,
      "grid_auto_flow": null,
      "grid_auto_rows": null,
      "grid_column": null,
      "grid_gap": null,
      "grid_row": null,
      "grid_template_areas": null,
      "grid_template_columns": null,
      "grid_template_rows": null,
      "height": null,
      "justify_content": null,
      "justify_items": null,
      "left": null,
      "margin": null,
      "max_height": null,
      "max_width": null,
      "min_height": null,
      "min_width": null,
      "object_fit": null,
      "object_position": null,
      "order": null,
      "overflow": null,
      "overflow_x": null,
      "overflow_y": null,
      "padding": null,
      "right": null,
      "top": null,
      "visibility": null,
      "width": null
     }
    },
    "68f145beaf9c47fc88a5b3c6a92417b6": {
     "model_module": "@jupyter-widgets/controls",
     "model_module_version": "1.5.0",
     "model_name": "ProgressStyleModel",
     "state": {
      "_model_module": "@jupyter-widgets/controls",
      "_model_module_version": "1.5.0",
      "_model_name": "ProgressStyleModel",
      "_view_count": null,
      "_view_module": "@jupyter-widgets/base",
      "_view_module_version": "1.2.0",
      "_view_name": "StyleView",
      "bar_color": null,
      "description_width": ""
     }
    },
    "6af01f5cd55748d49add767aa4d78186": {
     "model_module": "@jupyter-widgets/controls",
     "model_module_version": "1.5.0",
     "model_name": "HTMLModel",
     "state": {
      "_dom_classes": [],
      "_model_module": "@jupyter-widgets/controls",
      "_model_module_version": "1.5.0",
      "_model_name": "HTMLModel",
      "_view_count": null,
      "_view_module": "@jupyter-widgets/controls",
      "_view_module_version": "1.5.0",
      "_view_name": "HTMLView",
      "description": "",
      "description_tooltip": null,
      "layout": "IPY_MODEL_659b7fdd6f64401b974f414363e55bc5",
      "placeholder": "​",
      "style": "IPY_MODEL_f1466c0cc5d54af5ba6ebd6fc312b86e",
      "value": "Epoch 0:   0%"
     }
    },
    "7a2aa09cd0e5429c9922bed85f283e34": {
     "model_module": "@jupyter-widgets/controls",
     "model_module_version": "1.5.0",
     "model_name": "FloatProgressModel",
     "state": {
      "_dom_classes": [],
      "_model_module": "@jupyter-widgets/controls",
      "_model_module_version": "1.5.0",
      "_model_name": "FloatProgressModel",
      "_view_count": null,
      "_view_module": "@jupyter-widgets/controls",
      "_view_module_version": "1.5.0",
      "_view_name": "ProgressView",
      "bar_style": "info",
      "description": "",
      "description_tooltip": null,
      "layout": "IPY_MODEL_9153c163b21b4d5d85e7a7fbb61c0b4b",
      "max": 1,
      "min": 0,
      "orientation": "horizontal",
      "style": "IPY_MODEL_68f145beaf9c47fc88a5b3c6a92417b6",
      "value": 0
     }
    },
    "9153c163b21b4d5d85e7a7fbb61c0b4b": {
     "model_module": "@jupyter-widgets/base",
     "model_module_version": "1.2.0",
     "model_name": "LayoutModel",
     "state": {
      "_model_module": "@jupyter-widgets/base",
      "_model_module_version": "1.2.0",
      "_model_name": "LayoutModel",
      "_view_count": null,
      "_view_module": "@jupyter-widgets/base",
      "_view_module_version": "1.2.0",
      "_view_name": "LayoutView",
      "align_content": null,
      "align_items": null,
      "align_self": null,
      "border": null,
      "bottom": null,
      "display": null,
      "flex": "2",
      "flex_flow": null,
      "grid_area": null,
      "grid_auto_columns": null,
      "grid_auto_flow": null,
      "grid_auto_rows": null,
      "grid_column": null,
      "grid_gap": null,
      "grid_row": null,
      "grid_template_areas": null,
      "grid_template_columns": null,
      "grid_template_rows": null,
      "height": null,
      "justify_content": null,
      "justify_items": null,
      "left": null,
      "margin": null,
      "max_height": null,
      "max_width": null,
      "min_height": null,
      "min_width": null,
      "object_fit": null,
      "object_position": null,
      "order": null,
      "overflow": null,
      "overflow_x": null,
      "overflow_y": null,
      "padding": null,
      "right": null,
      "top": null,
      "visibility": null,
      "width": null
     }
    },
    "c0c6e59185e34397b1e5df6138b00b29": {
     "model_module": "@jupyter-widgets/controls",
     "model_module_version": "1.5.0",
     "model_name": "HTMLModel",
     "state": {
      "_dom_classes": [],
      "_model_module": "@jupyter-widgets/controls",
      "_model_module_version": "1.5.0",
      "_model_name": "HTMLModel",
      "_view_count": null,
      "_view_module": "@jupyter-widgets/controls",
      "_view_module_version": "1.5.0",
      "_view_name": "HTMLView",
      "description": "",
      "description_tooltip": null,
      "layout": "IPY_MODEL_ebaa73e577a24a258232f0d4b14de748",
      "placeholder": "​",
      "style": "IPY_MODEL_5c534b7ab61345b0a7e2188714a9d675",
      "value": " 0/1606 [00:00&lt;?, ?it/s]"
     }
    },
    "d0ae30b3f8214977830cf9d49d7b5658": {
     "model_module": "@jupyter-widgets/base",
     "model_module_version": "1.2.0",
     "model_name": "LayoutModel",
     "state": {
      "_model_module": "@jupyter-widgets/base",
      "_model_module_version": "1.2.0",
      "_model_name": "LayoutModel",
      "_view_count": null,
      "_view_module": "@jupyter-widgets/base",
      "_view_module_version": "1.2.0",
      "_view_name": "LayoutView",
      "align_content": null,
      "align_items": null,
      "align_self": null,
      "border": null,
      "bottom": null,
      "display": "inline-flex",
      "flex": null,
      "flex_flow": "row wrap",
      "grid_area": null,
      "grid_auto_columns": null,
      "grid_auto_flow": null,
      "grid_auto_rows": null,
      "grid_column": null,
      "grid_gap": null,
      "grid_row": null,
      "grid_template_areas": null,
      "grid_template_columns": null,
      "grid_template_rows": null,
      "height": null,
      "justify_content": null,
      "justify_items": null,
      "left": null,
      "margin": null,
      "max_height": null,
      "max_width": null,
      "min_height": null,
      "min_width": null,
      "object_fit": null,
      "object_position": null,
      "order": null,
      "overflow": null,
      "overflow_x": null,
      "overflow_y": null,
      "padding": null,
      "right": null,
      "top": null,
      "visibility": null,
      "width": "100%"
     }
    },
    "ebaa73e577a24a258232f0d4b14de748": {
     "model_module": "@jupyter-widgets/base",
     "model_module_version": "1.2.0",
     "model_name": "LayoutModel",
     "state": {
      "_model_module": "@jupyter-widgets/base",
      "_model_module_version": "1.2.0",
      "_model_name": "LayoutModel",
      "_view_count": null,
      "_view_module": "@jupyter-widgets/base",
      "_view_module_version": "1.2.0",
      "_view_name": "LayoutView",
      "align_content": null,
      "align_items": null,
      "align_self": null,
      "border": null,
      "bottom": null,
      "display": null,
      "flex": null,
      "flex_flow": null,
      "grid_area": null,
      "grid_auto_columns": null,
      "grid_auto_flow": null,
      "grid_auto_rows": null,
      "grid_column": null,
      "grid_gap": null,
      "grid_row": null,
      "grid_template_areas": null,
      "grid_template_columns": null,
      "grid_template_rows": null,
      "height": null,
      "justify_content": null,
      "justify_items": null,
      "left": null,
      "margin": null,
      "max_height": null,
      "max_width": null,
      "min_height": null,
      "min_width": null,
      "object_fit": null,
      "object_position": null,
      "order": null,
      "overflow": null,
      "overflow_x": null,
      "overflow_y": null,
      "padding": null,
      "right": null,
      "top": null,
      "visibility": null,
      "width": null
     }
    },
    "f1466c0cc5d54af5ba6ebd6fc312b86e": {
     "model_module": "@jupyter-widgets/controls",
     "model_module_version": "1.5.0",
     "model_name": "DescriptionStyleModel",
     "state": {
      "_model_module": "@jupyter-widgets/controls",
      "_model_module_version": "1.5.0",
      "_model_name": "DescriptionStyleModel",
      "_view_count": null,
      "_view_module": "@jupyter-widgets/base",
      "_view_module_version": "1.2.0",
      "_view_name": "StyleView",
      "description_width": ""
     }
    },
    "f5186190084f4bd5b998cd5666ebfffb": {
     "model_module": "@jupyter-widgets/controls",
     "model_module_version": "1.5.0",
     "model_name": "HBoxModel",
     "state": {
      "_dom_classes": [],
      "_model_module": "@jupyter-widgets/controls",
      "_model_module_version": "1.5.0",
      "_model_name": "HBoxModel",
      "_view_count": null,
      "_view_module": "@jupyter-widgets/controls",
      "_view_module_version": "1.5.0",
      "_view_name": "HBoxView",
      "box_style": "",
      "children": [
       "IPY_MODEL_6af01f5cd55748d49add767aa4d78186",
       "IPY_MODEL_7a2aa09cd0e5429c9922bed85f283e34",
       "IPY_MODEL_c0c6e59185e34397b1e5df6138b00b29"
      ],
      "layout": "IPY_MODEL_d0ae30b3f8214977830cf9d49d7b5658"
     }
    }
   }
  }
 },
 "nbformat": 4,
 "nbformat_minor": 5
}
