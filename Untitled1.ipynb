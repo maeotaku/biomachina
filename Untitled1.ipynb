{
 "cells": [
  {
   "cell_type": "code",
   "execution_count": 2,
   "id": "b29b29b2-837d-4ffc-9bc6-7e97a89fae85",
   "metadata": {},
   "outputs": [],
   "source": [
    "import torch\n",
    "import torch.nn as nn\n",
    "import numpy as np"
   ]
  },
  {
   "cell_type": "code",
   "execution_count": 275,
   "id": "14d1cffb-ab75-4a28-9d94-dee6620d0c70",
   "metadata": {},
   "outputs": [],
   "source": [
    "class HierarchicalSoftmax(nn.Module):\n",
    "    \n",
    "    def __init__(self, ntokens, nhid, ntokens_per_class = None):\n",
    "        super(HierarchicalSoftmax, self).__init__()\n",
    "\n",
    "        # Parameters\n",
    "        self.ntokens = ntokens\n",
    "        self.nhid = nhid\n",
    "\n",
    "        if ntokens_per_class is None:\n",
    "            ntokens_per_class = int(np.ceil(np.sqrt(ntokens)))\n",
    "\n",
    "        self.ntokens_per_class = ntokens_per_class\n",
    "\n",
    "        self.nclasses = int(np.ceil(self.ntokens * 1. / self.ntokens_per_class))\n",
    "        self.ntokens_actual = self.nclasses * self.ntokens_per_class\n",
    "\n",
    "        self.layer_top_W = nn.Parameter(torch.FloatTensor(self.nhid, self.nclasses), requires_grad=True)\n",
    "        print(self.layer_top_W.shape)\n",
    "        self.layer_top_b = nn.Parameter(torch.FloatTensor(self.nclasses), requires_grad=True)\n",
    "        \n",
    "\n",
    "        self.layer_bottom_W = nn.Parameter(torch.FloatTensor(self.nclasses, self.nhid, self.ntokens_per_class), requires_grad=True)\n",
    "        print(self.layer_bottom_W.shape)\n",
    "        self.layer_bottom_b = nn.Parameter(torch.FloatTensor(self.nclasses, self.ntokens_per_class), requires_grad=True)\n",
    "\n",
    "        self.softmax = nn.Softmax(dim=1)\n",
    "\n",
    "        self.init_weights()\n",
    "\n",
    "    def init_weights(self):\n",
    "        initrange = 0.1\n",
    "        self.layer_top_W.data.uniform_(-initrange, initrange)\n",
    "        self.layer_top_b.data.fill_(0)\n",
    "        self.layer_bottom_W.data.uniform_(-initrange, initrange)\n",
    "        self.layer_bottom_b.data.fill_(0)\n",
    "\n",
    "\n",
    "    def forward(self, inputs, labels):\n",
    "\n",
    "        batch_size, d = inputs.size()\n",
    "    \n",
    "        label_position_top = (labels / self.ntokens_per_class).long()\n",
    "        label_position_bottom = (labels % self.ntokens_per_class).long()\n",
    "\n",
    "        layer_top_logits = torch.matmul(inputs, self.layer_top_W) + self.layer_top_b\n",
    "        layer_top_probs = self.softmax(layer_top_logits)\n",
    "\n",
    "        layer_bottom_logits = torch.squeeze(torch.bmm(torch.unsqueeze(inputs, dim=1), self.layer_bottom_W[label_position_top]), dim=1) + self.layer_bottom_b[label_position_top]\n",
    "        layer_bottom_probs = self.softmax(layer_bottom_logits)\n",
    "\n",
    "        target_probs = layer_top_probs[torch.arange(batch_size).long(), label_position_top] * layer_bottom_probs[torch.arange(batch_size).long(), label_position_bottom]\n",
    "\n",
    "        # print(f\"top {layer_top_probs.shape} {layer_top_probs}\")\n",
    "        # print(f\"bottom {layer_bottom_probs.shape} {layer_bottom_probs}\")\n",
    "        top_indx = torch.argmax(layer_top_probs, dim=1)\n",
    "        botton_indx = torch.argmax(layer_bottom_probs, dim=1)\n",
    "\n",
    "        real_indx = (top_indx * self.ntokens_per_class) + botton_indx\n",
    "        # print(top_indx, self.nclasses, botton_indx)\n",
    "        # print(f\"target {target_probs.shape} {target_probs}\")\n",
    "        \n",
    "        loss = -torch.mean(torch.log(target_probs))\n",
    "\n",
    "        return loss, target_probs, layer_top_probs, layer_bottom_probs, top_indx, botton_indx, real_indx\n"
   ]
  },
  {
   "cell_type": "code",
   "execution_count": 302,
   "id": "0b7d3d67-de47-4296-ae52-cbf1c75ac9e0",
   "metadata": {},
   "outputs": [
    {
     "name": "stdout",
     "output_type": "stream",
     "text": [
      "torch.Size([256, 4])\n",
      "torch.Size([4, 256, 2])\n"
     ]
    },
    {
     "data": {
      "text/plain": [
       "(4, 2, 8, 256)"
      ]
     },
     "execution_count": 302,
     "metadata": {},
     "output_type": "execute_result"
    }
   ],
   "source": [
    "s = HierarchicalSoftmax(ntokens = 8, nhid = 256, ntokens_per_class=2)\n",
    "s.nclasses, s.ntokens_per_class, s.ntokens_actual, s.nhid"
   ]
  },
  {
   "cell_type": "code",
   "execution_count": 303,
   "id": "1227a656-d1fc-4c36-8b7e-29de62876b56",
   "metadata": {},
   "outputs": [],
   "source": [
    "x = torch.rand(10, 256).float()\n",
    "y = torch.ones(10).long()\n",
    "# y = torch.tensor([1, 2, 79000, 3]).long()\n",
    "l, p, _, _, ti, bi, ri = s(x, y)"
   ]
  },
  {
   "cell_type": "code",
   "execution_count": 304,
   "id": "c9b7fb05-b5a1-47e6-a281-e789c1240862",
   "metadata": {},
   "outputs": [
    {
     "data": {
      "text/plain": [
       "(tensor([3, 1, 3, 3, 3, 1, 1, 1, 3, 3]),\n",
       " tensor([1, 1, 1, 1, 1, 1, 1, 1, 1, 1]),\n",
       " tensor([7, 3, 7, 7, 7, 3, 3, 3, 7, 7]),\n",
       " tensor([1, 1, 1, 1, 1, 1, 1, 1, 1, 1]))"
      ]
     },
     "execution_count": 304,
     "metadata": {},
     "output_type": "execute_result"
    }
   ],
   "source": [
    "ti, bi, ri, y"
   ]
  },
  {
   "cell_type": "code",
   "execution_count": 248,
   "id": "e017d1bd-af77-4203-82ad-f7936e58b36c",
   "metadata": {},
   "outputs": [
    {
     "data": {
      "text/plain": [
       "tensor(0.7000)"
      ]
     },
     "execution_count": 248,
     "metadata": {},
     "output_type": "execute_result"
    }
   ],
   "source": [
    "import torchmetrics\n",
    "\n",
    "train_acc = torchmetrics.Accuracy()\n",
    "train_acc(ri, y)"
   ]
  },
  {
   "cell_type": "code",
   "execution_count": 182,
   "id": "d4c6fdab-4f7a-4b91-b7e4-34eb20262139",
   "metadata": {},
   "outputs": [
    {
     "data": {
      "text/plain": [
       "tensor(12.9449, grad_fn=<NegBackward>)"
      ]
     },
     "execution_count": 182,
     "metadata": {},
     "output_type": "execute_result"
    }
   ],
   "source": [
    "l"
   ]
  },
  {
   "cell_type": "code",
   "execution_count": null,
   "id": "cac6b644-f291-4943-a2a8-85681204688c",
   "metadata": {},
   "outputs": [],
   "source": []
  },
  {
   "cell_type": "code",
   "execution_count": 16,
   "id": "2f810495-d13d-499a-9d1b-bd1f1401f59f",
   "metadata": {},
   "outputs": [
    {
     "ename": "ModuleNotFoundError",
     "evalue": "No module named 'timm'",
     "output_type": "error",
     "traceback": [
      "\u001b[1;31m---------------------------------------------------------------------------\u001b[0m",
      "\u001b[1;31mModuleNotFoundError\u001b[0m                       Traceback (most recent call last)",
      "\u001b[1;32m~\\AppData\\Local\\Temp/ipykernel_14652/609002727.py\u001b[0m in \u001b[0;36m<module>\u001b[1;34m\u001b[0m\n\u001b[1;32m----> 1\u001b[1;33m \u001b[1;32mimport\u001b[0m \u001b[0mtimm\u001b[0m\u001b[1;33m\u001b[0m\u001b[1;33m\u001b[0m\u001b[0m\n\u001b[0m",
      "\u001b[1;31mModuleNotFoundError\u001b[0m: No module named 'timm'"
     ]
    }
   ],
   "source": [
    "import timm"
   ]
  },
  {
   "cell_type": "code",
   "execution_count": 44,
   "id": "2c1d84a7-6643-49ca-ba74-79234c7b7c08",
   "metadata": {},
   "outputs": [
    {
     "data": {
      "text/plain": [
       "(torch.Size([5, 3, 20]), torch.Size([2, 3, 20]))"
      ]
     },
     "execution_count": 44,
     "metadata": {},
     "output_type": "execute_result"
    }
   ],
   "source": [
    "rnn = nn.RNN(input_size =10, hidden_size=20, num_layers=2)\n",
    "input = torch.randn(5, 3, 10)\n",
    "h0 = torch.randn(2, 3, 20)\n",
    "output, hn = rnn(input, h0)\n",
    "output.shape, hn.shape"
   ]
  },
  {
   "cell_type": "code",
   "execution_count": 31,
   "id": "10aa8afe-18b7-4791-9561-1efbb1dab4f3",
   "metadata": {},
   "outputs": [
    {
     "data": {
      "text/plain": [
       "tensor([[[-0.7175,  0.7147,  0.1411,  0.9045, -0.3927, -0.5797, -0.8769,\n",
       "          -0.3946,  0.4277,  0.0444,  0.9158,  0.5043, -0.3930,  0.1022,\n",
       "           0.0757,  0.9047,  0.2502,  0.6870,  0.3141, -0.0672],\n",
       "         [-0.9026,  0.2158,  0.5263, -0.1289,  0.6552, -0.3140, -0.8748,\n",
       "           0.4386,  0.3600, -0.4555,  0.8233,  0.2973, -0.5606, -0.8467,\n",
       "          -0.2112,  0.4747, -0.4633,  0.1217, -0.3112, -0.2013],\n",
       "         [-0.4059,  0.4937, -0.1862,  0.2150, -0.4308,  0.6778,  0.1412,\n",
       "          -0.0387, -0.2283, -0.6684, -0.8446,  0.8311,  0.2351,  0.8425,\n",
       "          -0.4483,  0.0921, -0.7801, -0.1060,  0.0533,  0.3374]],\n",
       "\n",
       "        [[-0.3310, -0.0913,  0.0705, -0.0304,  0.6011,  0.1184, -0.0502,\n",
       "          -0.5929, -0.5561,  0.6226,  0.2480,  0.2018,  0.2935,  0.5392,\n",
       "           0.2178, -0.3965, -0.5496,  0.1775, -0.5934, -0.0623],\n",
       "         [-0.7821, -0.1966,  0.3740,  0.0997,  0.2173, -0.0241, -0.3716,\n",
       "          -0.2147, -0.6032,  0.1225,  0.7787,  0.2232,  0.3798,  0.1481,\n",
       "          -0.2563,  0.3626, -0.4959,  0.1823, -0.4787,  0.0129],\n",
       "         [-0.2037,  0.0644, -0.1534,  0.0207,  0.5442,  0.0033,  0.1919,\n",
       "          -0.1177,  0.0176, -0.5065,  0.0398,  0.5164,  0.1035,  0.1304,\n",
       "           0.3895, -0.0382, -0.4639,  0.2330, -0.1641, -0.4296]],\n",
       "\n",
       "        [[-0.0708,  0.5189, -0.2445,  0.4029, -0.0080, -0.2031, -0.2178,\n",
       "           0.2396, -0.3995, -0.6088, -0.4248,  0.5310,  0.0981,  0.1504,\n",
       "          -0.1475,  0.4182, -0.1484, -0.0890,  0.3781,  0.1337],\n",
       "         [-0.4888,  0.4541, -0.0918,  0.4360,  0.3311, -0.2329, -0.2226,\n",
       "          -0.1328, -0.6360,  0.0777,  0.2178,  0.2740,  0.2301,  0.7186,\n",
       "           0.2405,  0.2408, -0.4750,  0.0766, -0.1585,  0.1732],\n",
       "         [-0.1623,  0.2196, -0.1900,  0.4658,  0.3969,  0.1126, -0.1673,\n",
       "          -0.3165, -0.4192, -0.3695,  0.2088,  0.5230,  0.0957, -0.1638,\n",
       "          -0.0883,  0.3474,  0.0539,  0.6682,  0.4727,  0.1496]],\n",
       "\n",
       "        [[-0.6853, -0.1491,  0.1340, -0.0562,  0.4327,  0.1566, -0.3586,\n",
       "          -0.1698,  0.3685,  0.2331,  0.2846,  0.5669,  0.0804,  0.1110,\n",
       "           0.2281, -0.2416, -0.4350,  0.3144, -0.5221,  0.0095],\n",
       "         [-0.3990,  0.1505, -0.1480,  0.2388,  0.4685, -0.1192, -0.0973,\n",
       "          -0.3097, -0.2661, -0.0551,  0.3301,  0.5544,  0.1368,  0.4511,\n",
       "           0.4785, -0.0172, -0.2011, -0.1180, -0.2746, -0.1784],\n",
       "         [-0.6456, -0.0170,  0.1611,  0.5174,  0.4472, -0.0788, -0.4285,\n",
       "          -0.3335,  0.0760,  0.4911,  0.4096,  0.6842,  0.1963,  0.4496,\n",
       "           0.3993, -0.0619, -0.1033,  0.5018, -0.6325, -0.2000]],\n",
       "\n",
       "        [[-0.5727,  0.1576,  0.3929,  0.4998,  0.5370, -0.1090, -0.1882,\n",
       "          -0.2552, -0.6124, -0.2752,  0.3190,  0.3979,  0.3782,  0.4983,\n",
       "          -0.1075,  0.0186, -0.3375,  0.3688, -0.0211, -0.1411],\n",
       "         [-0.4915,  0.2180,  0.4971,  0.2276,  0.2878,  0.0541, -0.2490,\n",
       "           0.1022, -0.4247, -0.4424,  0.1792,  0.4772,  0.1299, -0.0408,\n",
       "          -0.0739, -0.0656, -0.5094,  0.1172, -0.1880, -0.2503],\n",
       "         [ 0.0599,  0.3665,  0.2427,  0.3766,  0.2585,  0.0819, -0.4234,\n",
       "           0.6267, -0.1838, -0.2418, -0.1866,  0.6088,  0.1134,  0.0489,\n",
       "          -0.1861,  0.0654, -0.1554, -0.1295, -0.1329, -0.3918]]],\n",
       "       grad_fn=<StackBackward>)"
      ]
     },
     "execution_count": 31,
     "metadata": {},
     "output_type": "execute_result"
    }
   ],
   "source": [
    "output"
   ]
  },
  {
   "cell_type": "code",
   "execution_count": 42,
   "id": "68f94bf2-b6c3-43d7-8b4d-af39743d4751",
   "metadata": {},
   "outputs": [
    {
     "data": {
      "text/plain": [
       "torch.Size([15, 20])"
      ]
     },
     "execution_count": 42,
     "metadata": {},
     "output_type": "execute_result"
    }
   ],
   "source": [
    "output.view(-1, output.size(2)).shape"
   ]
  },
  {
   "cell_type": "code",
   "execution_count": null,
   "id": "bd923abd-b590-4af8-8c55-ebad8b1faa5a",
   "metadata": {},
   "outputs": [],
   "source": []
  }
 ],
 "metadata": {
  "kernelspec": {
   "display_name": "Python 3 (ipykernel)",
   "language": "python",
   "name": "python3"
  },
  "language_info": {
   "codemirror_mode": {
    "name": "ipython",
    "version": 3
   },
   "file_extension": ".py",
   "mimetype": "text/x-python",
   "name": "python",
   "nbconvert_exporter": "python",
   "pygments_lexer": "ipython3",
   "version": "3.8.8"
  }
 },
 "nbformat": 4,
 "nbformat_minor": 5
}
