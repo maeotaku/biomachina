{
  "cells": [
    {
      "cell_type": "code",
      "execution_count": 1,
      "metadata": {
        "colab": {
          "base_uri": "https://localhost:8080/"
        },
        "id": "d_80x7edCN0b",
        "outputId": "911de3ee-95d0-4742-e12c-681e5a25f49b"
      },
      "outputs": [
        {
          "output_type": "stream",
          "name": "stdout",
          "text": [
            "Drive already mounted at /content/drive; to attempt to forcibly remount, call drive.mount(\"/content/drive\", force_remount=True).\n"
          ]
        }
      ],
      "source": [
        "#MatPlotLib\n",
        "from matplotlib import pyplot as plt\n",
        "from matplotlib.ticker import ScalarFormatter\n",
        "%matplotlib inline\n",
        "plt.rcParams[\"figure.figsize\"] = [9.6, 7.2]\n",
        "\n",
        "#Numpy\n",
        "import numpy as np\n",
        "\n",
        "#Pandas\n",
        "import pandas as pd\n",
        "\n",
        "#Pickle\n",
        "import pickle\n",
        "\n",
        "#Pytorch\n",
        "import torch\n",
        "from torch import nn\n",
        "import torch.nn.functional as F\n",
        "from torch.utils.data import DataLoader\n",
        "import torch.utils.model_zoo as model_zoo\n",
        "\n",
        "#Scipy\n",
        "from scipy.stats import pearsonr, spearmanr, kendalltau, boxcox\n",
        "\n",
        "#Sklearn\n",
        "from sklearn.metrics import confusion_matrix, accuracy_score, balanced_accuracy_score, f1_score, matthews_corrcoef, cohen_kappa_score\n",
        "from sklearn.model_selection import train_test_split\n",
        "from sklearn.utils import class_weight\n",
        "import warnings\n",
        "#warnings.filterwarnings('ignore') \n",
        "\n",
        "#Torchvision for CV\n",
        "import torchvision\n",
        "\n",
        "#Others\n",
        "import os\n",
        "from PIL import Image\n",
        "from google.colab import drive\n",
        "drive.mount('/content/drive')"
      ]
    },
    {
      "cell_type": "code",
      "execution_count": 23,
      "metadata": {
        "id": "h4F63cmgBBoN"
      },
      "outputs": [],
      "source": [
        "import random\n",
        "\n",
        "class ObservationsDataset(torch.utils.data.Dataset):\n",
        "  def __init__(self, transform, window_size=4):\n",
        "    self.basePath = \"/content/drive/MyDrive/Datasets/2022/trusted/images/\"\n",
        "    self.fileName = \"/content/drive/MyDrive/Datasets/2022/trusted/PlantCLEF2022_trusted_training_metadata.csv\"\n",
        "    self.transform = transform\n",
        "    self.window_size = window_size\n",
        "   \n",
        "    df = pd.read_csv(self.fileName, sep=';', usecols=[\"classid\", \"image_path\", \"gbif_occurrence_id\"])\n",
        "    df[\"Index\"] = df.index\n",
        "    df.gbif_occurrence_id.fillna(df.Index, inplace=True)\n",
        "\n",
        "    all_classes = list(df.classid.unique())\n",
        "    self.class_dict = {k: v for v, k in enumerate(all_classes)}\n",
        "    self.inv_class_dict = { v: k for v, k in enumerate(all_classes)}\n",
        "\n",
        "    self.obs = df.groupby('gbif_occurrence_id')\n",
        "    self.restart_windows()\n",
        "\n",
        "  def restart_windows(self):\n",
        "    self.observations = []\n",
        "    self.targets = []\n",
        "    self.obs.apply(lambda ob: self.ob(ob)) \n",
        "\n",
        "  def ob(self, images):\n",
        "    classid = images.iloc[0][\"classid\"]\n",
        "    image_paths = images[\"image_path\"].tolist()\n",
        "    random.shuffle(image_paths)\n",
        "    windows = [image_paths[x:x+self.window_size] for x in range(0, len(image_paths), self.window_size)]\n",
        "    self.observations += windows\n",
        "    self.targets += [self.class_dict[classid]] * len(windows)\n",
        "\n",
        "  def __len__(self):\n",
        "    return len(self.observations)\n",
        "    \n",
        "  def __getitem__(self, index):\n",
        "    ob = self.observations[index]\n",
        "    window_count = len(ob)\n",
        "    window = []\n",
        "    for i in range(self.window_size):\n",
        "      if i < window_count:\n",
        "        full_path = os.path.join(self.basePath, ob[i])\n",
        "        image = Image.open(full_path).convert('RGB')\n",
        "        image = self.transform(image)\n",
        "        window.append(image)\n",
        "      else:\n",
        "        window.append(torch.zeros(3,224,224))\n",
        "\n",
        "    window = torch.cat(window, dim=1)\n",
        "    return window, self.targets[index]"
      ]
    },
    {
      "cell_type": "code",
      "execution_count": 24,
      "metadata": {
        "id": "tQmeRVrYYQCQ"
      },
      "outputs": [],
      "source": [
        "transform = torchvision.transforms.Compose([\n",
        "                                         torchvision.transforms.Resize(256),\n",
        "                                         torchvision.transforms.CenterCrop(224),\n",
        "                                         torchvision.transforms.ToTensor(),\n",
        "                                         torchvision.transforms.Normalize([0.3734], [0.2041])])\n",
        "d2 = ObservationsDataset(transform)"
      ]
    },
    {
      "cell_type": "code",
      "source": [
        "d2.restart_windows()"
      ],
      "metadata": {
        "id": "v-OoH0ksHU8-"
      },
      "execution_count": 25,
      "outputs": []
    }
  ],
  "metadata": {
    "colab": {
      "name": "ObservationsDataset.ipynb",
      "provenance": []
    },
    "kernelspec": {
      "display_name": "Python 3",
      "name": "python3"
    },
    "language_info": {
      "name": "python"
    }
  },
  "nbformat": 4,
  "nbformat_minor": 0
}