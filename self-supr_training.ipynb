{
 "cells": [
  {
   "cell_type": "code",
   "execution_count": 1,
   "id": "a2526670-3537-4fb1-a599-01c90bbeac2b",
   "metadata": {},
   "outputs": [
    {
     "name": "stderr",
     "output_type": "stream",
     "text": [
      "C:\\Users\\maeot\\AppData\\Local\\Temp/ipykernel_14200/3253629878.py:15: FutureWarning: Passing a negative integer is deprecated in version 1.0 and will not be supported in future version. Instead, use None to not limit the column width.\n",
      "  pd.set_option('max_colwidth', -1)\n"
     ]
    }
   ],
   "source": [
    "import pandas as pd\n",
    "import matplotlib.pyplot as plt\n",
    "import numpy as np\n",
    "\n",
    "import torch\n",
    "from torch import nn\n",
    "from torch.nn import functional as F\n",
    "from torch.utils.data import DataLoader\n",
    "from torch.utils.data import random_split\n",
    "from torchvision import transforms\n",
    "import pytorch_lightning as pl\n",
    "\n",
    "pd.set_option('display.max_columns', 500)\n",
    "pd.set_option('display.width', 1000)\n",
    "pd.set_option('max_colwidth', -1)\n",
    "\n",
    "from datasets import PlatCLEFSimCLR, PlantCLEF2022_Dataset\n"
   ]
  },
  {
   "cell_type": "code",
   "execution_count": 2,
   "id": "47973f51-4acb-4486-9040-44fd318fd6b0",
   "metadata": {},
   "outputs": [],
   "source": [
    "columns = [\"classid\", \"classid\", \"image_path\", \"species\", \"genus\", \"family\"]\n",
    "df_web = pd.read_csv(\"web/PlantCLEF2022_web_training_metadata.csv\", sep=\";\", usecols=columns)\n",
    "# df_trusted = pd.read_csv(\"trusted/PlantCLEF2022_trusted_training_metadata.csv\", sep=\";\", usecols=columns)"
   ]
  },
  {
   "cell_type": "code",
   "execution_count": 3,
   "id": "af64db3d-bc02-4988-b401-ccece8468935",
   "metadata": {},
   "outputs": [
    {
     "data": {
      "text/html": [
       "<div>\n",
       "<style scoped>\n",
       "    .dataframe tbody tr th:only-of-type {\n",
       "        vertical-align: middle;\n",
       "    }\n",
       "\n",
       "    .dataframe tbody tr th {\n",
       "        vertical-align: top;\n",
       "    }\n",
       "\n",
       "    .dataframe thead th {\n",
       "        text-align: right;\n",
       "    }\n",
       "</style>\n",
       "<table border=\"1\" class=\"dataframe\">\n",
       "  <thead>\n",
       "    <tr style=\"text-align: right;\">\n",
       "      <th></th>\n",
       "      <th>classid</th>\n",
       "      <th>image_path</th>\n",
       "      <th>species</th>\n",
       "      <th>genus</th>\n",
       "      <th>family</th>\n",
       "    </tr>\n",
       "  </thead>\n",
       "  <tbody>\n",
       "    <tr>\n",
       "      <th>0</th>\n",
       "      <td>2683260</td>\n",
       "      <td>2683260/f402e9eb580a5a46470e60aae20c9239971f95ac.jpg</td>\n",
       "      <td>Cycas angulata R.Br.</td>\n",
       "      <td>Cycas</td>\n",
       "      <td>Cycadaceae</td>\n",
       "    </tr>\n",
       "    <tr>\n",
       "      <th>1</th>\n",
       "      <td>2683260</td>\n",
       "      <td>2683260/2ffcb2e0dd5a93697a7e37c4dee3fdcdff2a7914.jpg</td>\n",
       "      <td>Cycas angulata R.Br.</td>\n",
       "      <td>Cycas</td>\n",
       "      <td>Cycadaceae</td>\n",
       "    </tr>\n",
       "    <tr>\n",
       "      <th>2</th>\n",
       "      <td>2683260</td>\n",
       "      <td>2683260/987a5e1aaf1447a759ff75c3bbdf9bd7edac896f.jpg</td>\n",
       "      <td>Cycas angulata R.Br.</td>\n",
       "      <td>Cycas</td>\n",
       "      <td>Cycadaceae</td>\n",
       "    </tr>\n",
       "    <tr>\n",
       "      <th>3</th>\n",
       "      <td>2683260</td>\n",
       "      <td>2683260/4be17a768060b5b3f0ca4d340971ca7be3c90eb4.jpg</td>\n",
       "      <td>Cycas angulata R.Br.</td>\n",
       "      <td>Cycas</td>\n",
       "      <td>Cycadaceae</td>\n",
       "    </tr>\n",
       "    <tr>\n",
       "      <th>4</th>\n",
       "      <td>2683260</td>\n",
       "      <td>2683260/409ba823af52a3422de929d9344d1c8cd36cf4c3.jpg</td>\n",
       "      <td>Cycas angulata R.Br.</td>\n",
       "      <td>Cycas</td>\n",
       "      <td>Cycadaceae</td>\n",
       "    </tr>\n",
       "  </tbody>\n",
       "</table>\n",
       "</div>"
      ],
      "text/plain": [
       "   classid                                            image_path               species  genus      family\n",
       "0  2683260  2683260/f402e9eb580a5a46470e60aae20c9239971f95ac.jpg  Cycas angulata R.Br.  Cycas  Cycadaceae\n",
       "1  2683260  2683260/2ffcb2e0dd5a93697a7e37c4dee3fdcdff2a7914.jpg  Cycas angulata R.Br.  Cycas  Cycadaceae\n",
       "2  2683260  2683260/987a5e1aaf1447a759ff75c3bbdf9bd7edac896f.jpg  Cycas angulata R.Br.  Cycas  Cycadaceae\n",
       "3  2683260  2683260/4be17a768060b5b3f0ca4d340971ca7be3c90eb4.jpg  Cycas angulata R.Br.  Cycas  Cycadaceae\n",
       "4  2683260  2683260/409ba823af52a3422de929d9344d1c8cd36cf4c3.jpg  Cycas angulata R.Br.  Cycas  Cycadaceae"
      ]
     },
     "execution_count": 3,
     "metadata": {},
     "output_type": "execute_result"
    }
   ],
   "source": [
    "df_web.head()"
   ]
  },
  {
   "cell_type": "code",
   "execution_count": 4,
   "id": "373bd260-e460-4b4e-809e-13a64976787b",
   "metadata": {},
   "outputs": [
    {
     "data": {
      "text/plain": [
       "(1071627, 5)"
      ]
     },
     "execution_count": 4,
     "metadata": {},
     "output_type": "execute_result"
    }
   ],
   "source": [
    "df_web.shape#, df_trusted.shape"
   ]
  },
  {
   "cell_type": "code",
   "execution_count": 5,
   "id": "107e6a4b-d333-444e-9b9d-79742366c914",
   "metadata": {},
   "outputs": [],
   "source": [
    "# df_trusted.classid.nunique(),  df_trusted.species.nunique(), df_trusted.genus.nunique(), df_trusted.family.nunique()"
   ]
  },
  {
   "cell_type": "markdown",
   "id": "ce878dea-1bd4-4f6a-a8b2-32da17dc952f",
   "metadata": {},
   "source": [
    "\n",
    "# Self-Supervised\n",
    "    "
   ]
  },
  {
   "cell_type": "markdown",
   "id": "07ceeb4b-b188-4d68-bb10-f65e7a6bfcda",
   "metadata": {},
   "source": [
    "## Data preparation"
   ]
  },
  {
   "cell_type": "code",
   "execution_count": 6,
   "id": "be4d25d3-e3d4-4ba4-a997-d275b4b88e8a",
   "metadata": {},
   "outputs": [],
   "source": [
    "args = {}\n",
    "args['description'] = 'PyTorch SimCLR'\n",
    "args['epochs'] = 10\n",
    "args['batch_size'] = 32\n",
    "args['lr'] = 0.0003\n",
    "args['weight_decay'] = 1e-4\n",
    "args['out_dim'] = 128 \n",
    "args['log_every_n_steps'] = 10\n",
    "args['temperature'] = 0.07\n",
    "args['n_views'] = 2\n",
    "args['arch'] = 'resnet50'\n",
    "args['seed'] = None\n",
    "args['fp16_precision'] = True\n",
    "args['num_workers'] = 4\n",
    "args['checkpoints'] = \"selfsupr_checkpoints\""
   ]
  },
  {
   "cell_type": "code",
   "execution_count": 7,
   "id": "0e2c672b-9f27-41b8-bfc8-8d0a75c766ac",
   "metadata": {},
   "outputs": [
    {
     "data": {
      "text/plain": [
       "Dataset PlatCLEFSimCLR\n",
       "    Number of datapoints: 68898\n",
       "    Root Location: C:\\Users\\maeot\\Documents\\code\\biomachina\\web\\images\\\n",
       "    Transforms (if any): <datasets.ContrastiveLearningViewGenerator object at 0x00000136955E35E0>"
      ]
     },
     "execution_count": 7,
     "metadata": {},
     "output_type": "execute_result"
    }
   ],
   "source": [
    "\n",
    "ds_sim = PlatCLEFSimCLR(df_web, root=\"C:\\\\Users\\\\maeot\\\\Documents\\\\code\\\\biomachina\\\\web\\\\images\\\\\", \n",
    "                           label_col=\"species\", filename_col=\"image_path\", size=224)\n",
    "ds_sim"
   ]
  },
  {
   "cell_type": "markdown",
   "id": "b7c3bf6b-e3e7-4709-b6a9-3251d5370cbb",
   "metadata": {},
   "source": [
    "### Visualize sample"
   ]
  },
  {
   "cell_type": "code",
   "execution_count": 8,
   "id": "9c8f55aa-27ab-4647-ad62-3bd5fb271792",
   "metadata": {},
   "outputs": [],
   "source": [
    "selfsupr_loader = torch.utils.data.DataLoader(ds_sim, batch_size=args['batch_size'], shuffle=True, drop_last=True, num_workers=args['num_workers'], persistent_workers=True)\n",
    "selfsupr_iter = iter(selfsupr_loader)\n",
    "images, labels = selfsupr_iter.next() #images = list with 2 tensors of (B, C, H, W)\n"
   ]
  },
  {
   "cell_type": "code",
   "execution_count": 9,
   "id": "92234afc-fd81-49e8-b338-28eccc9ae83d",
   "metadata": {},
   "outputs": [],
   "source": [
    "def imshow(img):\n",
    "    img = img / 2 + 0.5     # unnormalize\n",
    "    npimg = img.numpy()\n",
    "    plt.imshow(np.transpose(npimg, (1, 2, 0)))\n"
   ]
  },
  {
   "cell_type": "code",
   "execution_count": 10,
   "id": "799f33f6-901f-4704-9007-f52f9f0fe9a3",
   "metadata": {},
   "outputs": [
    {
     "data": {
      "image/png": "[encoded data removed]",
      "text/plain": [
       "<Figure size 432x288 with 1 Axes>"
      ]
     },
     "metadata": {
      "needs_background": "light"
     },
     "output_type": "display_data"
    }
   ],
   "source": [
    "imshow(images[0][0])"
   ]
  },
  {
   "cell_type": "code",
   "execution_count": 11,
   "id": "6608b238-a178-4458-b39d-2578d3028591",
   "metadata": {},
   "outputs": [
    {
     "data": {
      "image/png": "[encoded data removed]",
      "text/plain": [
       "<Figure size 432x288 with 1 Axes>"
      ]
     },
     "metadata": {
      "needs_background": "light"
     },
     "output_type": "display_data"
    }
   ],
   "source": [
    "imshow(images[1][0])"
   ]
  },
  {
   "cell_type": "markdown",
   "id": "e3f1db96-cc39-4483-878b-96a1e3118e55",
   "metadata": {},
   "source": [
    "## Training"
   ]
  },
  {
   "cell_type": "code",
   "execution_count": 12,
   "id": "2c6cab7e-fcb4-4937-b273-831629909a78",
   "metadata": {},
   "outputs": [],
   "source": [
    "from models import ResNetSelfSupr\n",
    "from engines import SimCLREngine\n",
    "\n",
    "model = ResNetSelfSupr(base_model=args['arch'], out_dim=args['out_dim'])\n",
    "engine = SimCLREngine(model=model, loader=selfsupr_loader, args=args)\n"
   ]
  },
  {
   "cell_type": "code",
   "execution_count": 13,
   "id": "6b2319b2-4bd3-4a8d-8641-6af1aeab1082",
   "metadata": {},
   "outputs": [
    {
     "name": "stderr",
     "output_type": "stream",
     "text": [
      "Using 16bit native Automatic Mixed Precision (AMP)\n",
      "GPU available: True, used: True\n",
      "TPU available: False, using: 0 TPU cores\n",
      "IPU available: False, using: 0 IPUs\n",
      "LOCAL_RANK: 0 - CUDA_VISIBLE_DEVICES: [0]\n",
      "\n",
      "  | Name      | Type             | Params\n",
      "-----------------------------------------------\n",
      "0 | model     | ResNetSelfSupr   | 28.0 M\n",
      "1 | criterion | CrossEntropyLoss | 0     \n",
      "-----------------------------------------------\n",
      "28.0 M    Trainable params\n",
      "0         Non-trainable params\n",
      "28.0 M    Total params\n",
      "55.933    Total estimated model params size (MB)\n",
      "C:\\Users\\maeot\\anaconda3\\lib\\site-packages\\pytorch_lightning\\callbacks\\model_checkpoint.py:631: UserWarning: Checkpoint directory C:\\Users\\maeot\\Documents\\code\\biomachina\\selfsupr_checkpoints exists and is not empty.\n",
      "  rank_zero_warn(f\"Checkpoint directory {dirpath} exists and is not empty.\")\n"
     ]
    },
    {
     "data": {
      "application/vnd.jupyter.widget-view+json": {
       "model_id": "5e11393eb96c4a45a822703a3688e465",
       "version_major": 2,
       "version_minor": 0
      },
      "text/plain": [
       "Training: 0it [00:00, ?it/s]"
      ]
     },
     "metadata": {},
     "output_type": "display_data"
    },
    {
     "name": "stderr",
     "output_type": "stream",
     "text": [
      "C:\\Users\\maeot\\anaconda3\\lib\\site-packages\\pytorch_lightning\\trainer\\trainer.py:688: UserWarning: Detected KeyboardInterrupt, attempting graceful shutdown...\n",
      "  rank_zero_warn(\"Detected KeyboardInterrupt, attempting graceful shutdown...\")\n"
     ]
    }
   ],
   "source": [
    "from pytorch_lightning.callbacks import ModelCheckpoint\n",
    "\n",
    "SAVE_X_TIMES_PER_EPOCH = 0.1\n",
    "\n",
    "checkpoint_callback = ModelCheckpoint(\n",
    "    monitor=\"selfsupr_train_loss\",\n",
    "    dirpath=args[\"checkpoints\"],\n",
    "    save_top_k=2,\n",
    "    mode=\"min\",\n",
    "    filename='selfsupr-{epoch}-{selfsupr_train_loss:.2f}-{selfsupr_train_acc_top1:.2f}',\n",
    "    save_on_train_epoch_end = True,\n",
    "    every_n_train_steps = int((len(ds_sim) / args['batch_size']) * SAVE_X_TIMES_PER_EPOCH)\n",
    ")\n",
    "\n",
    "trainer = pl.Trainer(gpus=1, num_nodes=1, precision=16, limit_train_batches=0.5, callbacks=[checkpoint_callback])\n",
    "trainer.fit(engine, selfsupr_loader)"
   ]
  },
  {
   "cell_type": "code",
   "execution_count": null,
   "id": "c1486d3c-df7b-4d5e-bfbf-29882e191ce0",
   "metadata": {},
   "outputs": [],
   "source": []
  },
  {
   "cell_type": "code",
   "execution_count": null,
   "id": "37909b94-38f9-42d7-a660-eb14226fa357",
   "metadata": {},
   "outputs": [],
   "source": []
  }
 ],
 "metadata": {
  "kernelspec": {
   "display_name": "Python 3 (ipykernel)",
   "language": "python",
   "name": "python3"
  },
  "language_info": {
   "codemirror_mode": {
    "name": "ipython",
    "version": 3
   },
   "file_extension": ".py",
   "mimetype": "text/x-python",
   "name": "python",
   "nbconvert_exporter": "python",
   "pygments_lexer": "ipython3",
   "version": "3.8.8"
  }
 },
 "nbformat": 4,
 "nbformat_minor": 5
}
